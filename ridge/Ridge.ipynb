{
 "cells": [
  {
   "cell_type": "code",
   "execution_count": 2,
   "metadata": {
    "colab": {},
    "colab_type": "code",
    "id": "kTxgFzYmS4OC"
   },
   "outputs": [],
   "source": [
    "import matplotlib.pyplot as plt\n",
    "import numpy as np\n",
    "import pandas as pd\n",
    "import matplotlib\n",
    "from mpl_toolkits import mplot3d\n",
    "\n",
    "from math import sqrt\n",
    "SPINE_COLOR = 'gray'\n",
    "import numpy as np\n",
    "import matplotlib.pyplot as plt\n",
    "plt.get_cmap('gnuplot2')\n",
    "\n",
    "\n",
    "%matplotlib inline\n",
    "# Based on: https://www.analyticsvidhya.com/blog/2016/01/complete-tutorial-ridge-lasso-regression-python/"
   ]
  },
  {
   "cell_type": "code",
   "execution_count": null,
   "metadata": {},
   "outputs": [],
   "source": [
    "import sys\n",
    "sys.path.append(\"../\")"
   ]
  },
  {
   "cell_type": "code",
   "execution_count": null,
   "metadata": {},
   "outputs": [],
   "source": [
    "from latexify import latexify, format_axes"
   ]
  },
  {
   "cell_type": "code",
   "execution_count": null,
   "metadata": {},
   "outputs": [],
   "source": [
    "latexify()"
   ]
  },
  {
   "cell_type": "code",
   "execution_count": null,
   "metadata": {
    "colab": {
     "base_uri": "https://localhost:8080/",
     "height": 268
    },
    "colab_type": "code",
    "id": "bPbwBG_ocH4B",
    "outputId": "f792409b-bad9-46f1-f70b-0c61c2890685"
   },
   "outputs": [],
   "source": [
    "#Define input array with angles from 60deg to 300deg converted to radians\n",
    "x = np.array([i*np.pi/180 for i in range(60,300,4)])\n",
    "np.random.seed(10)  #Setting seed for reproducability\n",
    "y = 4*x + 7 + np.random.normal(0,3,len(x))\n",
    "y_true = 4*x + 7\n",
    "max_deg = 20\n",
    "data_x = [x**(i+1) for i in range(max_deg)] + [y]\n",
    "data_c = ['x'] + ['x_{}'.format(i+1) for i in range(1,max_deg)] + ['y']\n",
    "data = pd.DataFrame(np.column_stack(data_x),columns=data_c)\n",
    "data[\"ones\"] = 1\n",
    "plt.plot(data['x'],data['y'],'.', label='Data Points')\n",
    "plt.plot(data['x'], y_true,'g', label='True Function')\n",
    "plt.xlabel(\"x\")\n",
    "plt.ylabel(\"y\")\n",
    "plt.legend()\n",
    "format_axes(plt.gca())\n",
    "plt.savefig('lin_1.pdf', transparent=True, bbox_inches=\"tight\")"
   ]
  },
  {
   "cell_type": "code",
   "execution_count": null,
   "metadata": {
    "colab": {
     "base_uri": "https://localhost:8080/",
     "height": 301
    },
    "colab_type": "code",
    "id": "k27zHzwkc2zz",
    "outputId": "f81e4704-c46e-4ce2-a274-0122ba05d252"
   },
   "outputs": [],
   "source": [
    "from sklearn.linear_model import LinearRegression\n",
    "coef_list = []\n",
    "for i,deg in enumerate([1,3,6,11]):\n",
    "    predictors = ['ones','x']\n",
    "    if deg >= 2:\n",
    "        predictors.extend(['x_%d'%i for i in range(2,deg+1)])  \n",
    "\n",
    "    regressor = LinearRegression(normalize=False, fit_intercept=False)  \n",
    "    regressor.fit(data[predictors],data['y'])\n",
    "    y_pred = regressor.predict(data[predictors])\n",
    "    coef_list.append(abs(max(regressor.coef_, key=abs)))\n",
    "\n",
    "    plt.scatter(data['x'],data['y'], label='Train')\n",
    "    plt.plot(data['x'], y_pred,'k', label='Prediction')\n",
    "    plt.plot(data['x'], y_true,'g.', label='True Function')\n",
    "    format_axes(plt.gca())\n",
    "    plt.legend() \n",
    "    plt.title(f\"Degree: {deg} | Max Coeff: {max(regressor.coef_, key=abs):.2f}\")\n",
    "    plt.savefig('lin_plot_{}.pdf'.format(deg), transparent=True, bbox_inches=\"tight\")\n",
    "    plt.clf()"
   ]
  },
  {
   "cell_type": "code",
   "execution_count": null,
   "metadata": {},
   "outputs": [],
   "source": [
    "plt.semilogy([1,3,6,11],coef_list,'o-k')\n",
    "plt.xticks([1,3,6,11])\n",
    "plt.xlabel('Degree')\n",
    "plt.ylabel('Max Coef')\n",
    "format_axes(plt.gca())\n",
    "plt.savefig('lin_plot_coef.pdf', transparent=True, bbox_inches=\"tight\")"
   ]
  },
  {
   "cell_type": "code",
   "execution_count": null,
   "metadata": {},
   "outputs": [],
   "source": [
    "def cost(theta_0, theta_1, x, y):\n",
    "    s = 0\n",
    "    for i in range(len(x)):\n",
    "        y_i_hat = x[i]*theta_1 + theta_0\n",
    "        s += (y[i]-y_i_hat)**2\n",
    "    return s/len(x)\n",
    "\n",
    "x_grid, y_grid = np.mgrid[-4:15:.2, -4:15:.2]\n",
    "\n",
    "cost_matrix = np.zeros_like(x_grid)\n",
    "for i in range(x_grid.shape[0]):\n",
    "    for j in range(x_grid.shape[1]):\n",
    "        cost_matrix[i, j] = cost(x_grid[i, j], y_grid[i, j], data['x'], data['y'])"
   ]
  },
  {
   "cell_type": "code",
   "execution_count": null,
   "metadata": {},
   "outputs": [],
   "source": [
    "from matplotlib.patches import Circle\n",
    "\n",
    "levels = np.sort(np.array([2,10,20,50,100,150,200,400,600,800,1000]))\n",
    "\n",
    "plt.contourf(x_grid, y_grid, cost_matrix, levels,alpha=.4)\n",
    "plt.colorbar()\n",
    "plt.axhline(0, color='black', alpha=.5, dashes=[2, 4],linewidth=1)\n",
    "plt.axvline(0, color='black', alpha=0.5, dashes=[2, 4],linewidth=1)\n",
    "\n",
    "CS = plt.contour(x_grid, y_grid, cost_matrix, levels, linewidths=1,colors='black')\n",
    "plt.clabel(CS, inline=1, fontsize=8)\n",
    "plt.title(\"Least squares objective function\")\n",
    "plt.xlabel(r\"$\\theta_0$\")\n",
    "plt.ylabel(r\"$\\theta_1$\")\n",
    "p1 = Circle((0, 0), 3, color='g', label=r'$\\theta_0^2+\\theta_1^2=3$')\n",
    "plt.scatter([7], [4],marker='*', color='r',s=25,label='Actual Solution')\n",
    "plt.gca().add_patch(p1)\n",
    "plt.legend()\n",
    "plt.gca().set_aspect('equal')\n",
    "format_axes(plt.gca())\n",
    "plt.savefig('ridge_base_contour.pdf', transparent=True, bbox_inches=\"tight\")\n",
    "plt.show()"
   ]
  },
  {
   "cell_type": "code",
   "execution_count": null,
   "metadata": {},
   "outputs": [],
   "source": [
    "fig = plt.figure(figsize=(7,7))\n",
    "ax = plt.axes(projection='3d')\n",
    "\n",
    "ax = plt.axes(projection='3d')\n",
    "ax.plot_surface(x_grid, y_grid, cost_matrix,cmap='viridis', edgecolor='none')\n",
    "ax.set_title('Least squares objective function');\n",
    "ax.set_xlabel(r\"$\\theta_0$\")\n",
    "ax.set_ylabel(r\"$\\theta_1$\")\n",
    "ax.set_xlim([-4,15])\n",
    "ax.set_ylim([-4,15])\n",
    "\n",
    "u = np.linspace(0, np.pi, 30)\n",
    "v = np.linspace(0, 2 * np.pi, 30)\n",
    "\n",
    "# x = np.outer(500*np.sin(u), np.sin(v))\n",
    "# y = np.outer(500*np.sin(u), np.cos(v))\n",
    "# z = np.outer(500*np.cos(u), np.ones_like(v))\n",
    "# ax.plot_wireframe(x, y, z)\n",
    "\n",
    "ax.view_init(45, 120)\n",
    "plt.savefig('ridge_base_surface.pdf', transparent=True, bbox_inches=\"tight\")"
   ]
  },
  {
   "cell_type": "code",
   "execution_count": null,
   "metadata": {},
   "outputs": [],
   "source": [
    "latexify(fig_width=5, fig_height=2.5)\n",
    "from sklearn.linear_model import Ridge\n",
    "\n",
    "for alpha in [1, 10, 1000]:\n",
    "    fig, ax = plt.subplots(nrows=1, ncols=2)\n",
    "    \n",
    "    deg = 1\n",
    "    predictors = ['ones','x']\n",
    "    if deg >= 2:\n",
    "        predictors.extend(['x_%d'%i for i in range(2,deg+1)])  \n",
    "\n",
    "    regressor = Ridge(alpha=alpha,normalize=True, fit_intercept=False)\n",
    "    regressor.fit(data[predictors],data['y'])\n",
    "    y_pred = regressor.predict(data[predictors])\n",
    "    format_axes(ax[0])\n",
    "    format_axes(ax[1])\n",
    "    # Plot\n",
    "    ax[0].scatter(data['x'],data['y'], label='Train')\n",
    "    ax[0].plot(data['x'], y_pred,'k', label='Prediction')\n",
    "    ax[0].plot(data['x'], y_true,'g.', label='True Function')\n",
    "    ax[0].legend() \n",
    "    ax[0].set_title(f\"Degree: {deg} | $\\mu$: {alpha} | Max Coef: {max(regressor.coef_, key=abs):.2f}\")\n",
    "\n",
    "    # Circle\n",
    "    p1 = Circle((0, 0), np.sqrt(regressor.coef_.T@regressor.coef_), alpha=0.6, color='g', label=r'$\\theta_0^2+\\theta_1^2={:.2f}$'.format(np.sqrt(regressor.coef_.T@regressor.coef_)))\n",
    "    ax[1].add_patch(p1)\n",
    "\n",
    "    # Contour\n",
    "    levels = np.sort(np.array([2,10,20,50,100,150,200,400,600,800,1000]))\n",
    "    ax[1].contourf(x_grid, y_grid, cost_matrix, levels,alpha=.3)\n",
    "    #ax[1].colorbar()\n",
    "    ax[1].axhline(0, color='black', alpha=.5, dashes=[2, 4],linewidth=1)\n",
    "    ax[1].axvline(0, color='black', alpha=0.5, dashes=[2, 4],linewidth=1)\n",
    "\n",
    "    CS = plt.contour(x_grid, y_grid, cost_matrix, levels, linewidths=1,colors='black')\n",
    "    ax[1].clabel(CS, inline=1, fontsize=8)\n",
    "    ax[1].set_title(\"Least squares objective function\")\n",
    "    ax[1].set_xlabel(r\"$\\theta_0$\")\n",
    "    ax[1].set_ylabel(r\"$\\theta_1$\")\n",
    "    ax[1].scatter(regressor.coef_[0],regressor.coef_[1] ,marker='x', color='r',s=25,label='Ridge Solution')\n",
    "    ax[1].scatter([7], [4],marker='*', color='r',s=25,label='Actual Solution')\n",
    "    ax[1].set_xlim([-4,15])\n",
    "    ax[1].set_ylim([-4,15])\n",
    "    ax[1].legend()\n",
    "    ax[1].set_aspect('equal')\n",
    "    plt.savefig('ridge_{}.pdf'.format(alpha), transparent=True, bbox_inches=\"tight\")\n",
    "    plt.show()\n",
    "    plt.clf()"
   ]
  },
  {
   "cell_type": "code",
   "execution_count": null,
   "metadata": {
    "scrolled": false
   },
   "outputs": [],
   "source": [
    "latexify()\n",
    "from sklearn.linear_model import Ridge\n",
    "\n",
    "for i,deg in enumerate([19]):\n",
    "    predictors = ['ones', 'x']\n",
    "    if deg >= 2:\n",
    "        predictors.extend(['x_%d'%i for i in range(2,deg+1)])  \n",
    "\n",
    "    for i,alpha in enumerate([1, 1e7]):\n",
    "        regressor = Ridge(alpha=alpha,normalize=False, fit_intercept=False)\n",
    "        regressor.fit(data[predictors],data['y'])\n",
    "        y_pred = regressor.predict(data[predictors])\n",
    "        plt.scatter(data['x'],data['y'], label='Train')\n",
    "        plt.plot(data['x'], y_pred,'k', label='Prediction')\n",
    "        plt.plot(data['x'], y_true,'g.', label='True Function')\n",
    "        plt.legend() \n",
    "        format_axes(plt.gca())\n",
    "        plt.title(f\"Degree: {deg} | $\\mu$: {alpha} | Max Coeff: {max(regressor.coef_, key=abs):.2f}\")\n",
    "        plt.savefig('ridge_{}_{}.pdf'.format(alpha, deg), transparent=True, bbox_inches=\"tight\")\n",
    "        plt.show()\n",
    "        plt.clf()"
   ]
  },
  {
   "cell_type": "code",
   "execution_count": null,
   "metadata": {
    "colab": {
     "base_uri": "https://localhost:8080/",
     "height": 1000
    },
    "colab_type": "code",
    "id": "yekrJzjYekcg",
    "outputId": "7b344e75-b5be-4df6-e182-49c79c2c35c4"
   },
   "outputs": [],
   "source": [
    "# from sklearn.linear_model import Ridge\n",
    "\n",
    "# for i,deg in enumerate([2,4,8,16]):\n",
    "#   predictors = ['x']\n",
    "#   if deg >= 2:\n",
    "#     predictors.extend(['x_%d'%i for i in range(2,deg+1)])  \n",
    "#   fig, ax = plt.subplots(nrows=1, ncols=4, sharey=True, figsize=(20, 4))\n",
    "\n",
    "#   for i,alpha in enumerate([1e-15,1e-4,1,20]):\n",
    "#     regressor = Ridge(alpha=alpha,normalize=True)\n",
    "#     regressor.fit(data[predictors],data['y'])\n",
    "#     y_pred = regressor.predict(data[predictors])\n",
    "#     ax[i].scatter(data['x'],data['y'], label='Train')\n",
    "#     ax[i].plot(data['x'], y_pred,'k', label='Prediction')\n",
    "#     ax[i].plot(data['x'], y_true,'g.', label='True Function')\n",
    "#     ax[i].legend() \n",
    "#     ax[i].set_title(f\"Degree: {deg} | Alpha: {alpha} | Max Coeff: {max(regressor.coef_, key=abs):.2f}\")"
   ]
  },
  {
   "cell_type": "code",
   "execution_count": null,
   "metadata": {},
   "outputs": [],
   "source": [
    "import pandas as pd\n",
    "\n",
    "data = pd.read_excel(\"data.xlsx\")\n",
    "cols = data.columns\n",
    "alph_list = np.logspace(-2,10,num=20, endpoint=False)\n",
    "coef_list = []\n",
    "\n",
    "for i,alpha in enumerate(alph_list):\n",
    "    regressor = Ridge(alpha=alpha,normalize=True)\n",
    "    regressor.fit(data[cols[1:-1]],data[cols[-1]])\n",
    "    coef_list.append(regressor.coef_)\n",
    "\n",
    "coef_list = np.abs(np.array(coef_list).T)\n",
    "for i in range(len(cols[1:-1])):\n",
    "    plt.loglog(alph_list, coef_list[i] , label=r\"$\\theta_{}$\".format(i))\n",
    "plt.xlabel('$\\mu$ value')\n",
    "plt.ylabel('Coefficient Value')\n",
    "plt.legend() \n",
    "format_axes(plt.gca())\n",
    "plt.savefig('rid_reg.pdf', transparent=True, bbox_inches=\"tight\")\n",
    "# plt.set_title(f\"Degree: {deg} | Alpha: {alpha} | Max Coeff: {max(regressor.coef_, key=abs):.2f}\")"
   ]
  },
  {
   "cell_type": "markdown",
   "metadata": {
    "colab_type": "text",
    "id": "_JERsjAmnrGK"
   },
   "source": [
    "### Question"
   ]
  },
  {
   "cell_type": "code",
   "execution_count": null,
   "metadata": {
    "colab": {
     "base_uri": "https://localhost:8080/",
     "height": 262
    },
    "colab_type": "code",
    "id": "DxtW8uqdnpmK",
    "outputId": "0f3fee52-fbc8-4718-ed9f-eba3349cb9cb"
   },
   "outputs": [],
   "source": [
    "plt.style.use('seaborn-whitegrid')\n",
    "\n",
    "x = [1,2,3,4]\n",
    "y = [1,2,3,0]\n",
    "y_1 = [(2-i/5) for i in x]\n",
    "y_2 = [(0.5+0.4*i) for i in x]\n",
    "plt.ylim(-0.2,3.3)\n",
    "plt.plot(x,y,'.')\n",
    "for i in range(len(x)):\n",
    "    plt.text(x[i]-0.1, y[i]+0.1, \"({},{})\".format(x[i], y[i]))\n",
    "#plt.plot(x,y_1, label=\"unreg\")\n",
    "#plt.plot(x,y_2, label=\"reg\")\n",
    "#plt.legend()\n",
    "#format_axes(plt.gca())\n",
    "plt.savefig('temp.pdf', transparent=True)"
   ]
  },
  {
   "cell_type": "code",
   "execution_count": null,
   "metadata": {},
   "outputs": [],
   "source": [
    "from sklearn.linear_model import LinearRegression\n",
    "x_new = np.vstack([np.ones_like(x), x]).T\n",
    "regressor = LinearRegression(normalize=False, fit_intercept=False)  \n",
    "regressor.fit(x_new,y)\n",
    "y_pred = regressor.predict(x_new)\n",
    "\n",
    "for i in range(len(x)):\n",
    "    plt.text(x[i]-0.1, y[i]+0.1, \"({},{})\".format(x[i], y[i]))\n",
    "plt.plot(x,y,'.', label='Data Points')\n",
    "plt.plot(x,y_pred,'-g', label='Unregularized Fit')\n",
    "plt.legend(loc='lower left')\n",
    "#format_axes(plt.gca())\n",
    "plt.savefig('q_unreg.pdf', transparent=True)"
   ]
  },
  {
   "cell_type": "code",
   "execution_count": null,
   "metadata": {},
   "outputs": [],
   "source": [
    "from sklearn.linear_model import Ridge\n",
    "\n",
    "regressor = Ridge(alpha=np.sqrt(2), normalize=False, fit_intercept=False)  \n",
    "regressor.fit(x_new,y)\n",
    "y_pred_r = regressor.predict(x_new)\n",
    "\n",
    "for i in range(len(x)):\n",
    "    plt.text(x[i]-0.1, y[i]+0.1, \"({},{})\".format(x[i], y[i]))\n",
    "def ridge_func(x):\n",
    "    return 0.56 + 0.26*np.array(x)\n",
    "plt.plot(x,y,'.', label='Data Points')\n",
    "plt.plot(x,y_pred,'-g', label='Unregularized Fit')\n",
    "plt.plot(x,ridge_func(x),'-b', label='Regularized Fit')\n",
    "plt.legend(loc='lower left')\n",
    "#format_axes(plt.gca())\n",
    "plt.savefig('q_reg.pdf', transparent=True)"
   ]
  },
  {
   "cell_type": "markdown",
   "metadata": {},
   "source": [
    "### Retrying with a better example"
   ]
  },
  {
   "cell_type": "code",
   "execution_count": 3,
   "metadata": {},
   "outputs": [
    {
     "data": {
      "image/png": "[encoded data removed]",
      "text/plain": [
       "<Figure size 432x288 with 1 Axes>"
      ]
     },
     "metadata": {
      "needs_background": "light"
     },
     "output_type": "display_data"
    }
   ],
   "source": [
    "#Define input array with angles from 60deg to 300deg converted to radians\n",
    "x = np.array([i*np.pi/180 for i in range(60,600,10)])\n",
    "np.random.seed(10)  #Setting seed for reproducability\n",
    "y = 4*x + 7 + np.random.normal(0,5,len(x))\n",
    "y_true = 4*x + 7\n",
    "max_deg = 20\n",
    "data_x = [x**(i+1) for i in range(max_deg)] + [y]\n",
    "data_c = ['x'] + ['x_{}'.format(i+1) for i in range(1,max_deg)] + ['y']\n",
    "data = pd.DataFrame(np.column_stack(data_x),columns=data_c)\n",
    "data[\"ones\"] = 1\n",
    "plt.plot(data['x'],data['y'],'.', label='Data Points')\n",
    "plt.plot(data['x'], y_true,'g', label='True Function')\n",
    "plt.xlabel(\"x\")\n",
    "plt.ylabel(\"y\")\n",
    "plt.legend()\n",
    "#format_axes(plt.gca())\n",
    "plt.savefig('lin_1.pdf', transparent=True, bbox_inches=\"tight\")"
   ]
  },
  {
   "cell_type": "code",
   "execution_count": 15,
   "metadata": {},
   "outputs": [
    {
     "data": {
      "image/png": "[encoded data removed]",
      "text/plain": [
       "<Figure size 432x288 with 1 Axes>"
      ]
     },
     "metadata": {
      "needs_background": "light"
     },
     "output_type": "display_data"
    },
    {
     "name": "stderr",
     "output_type": "stream",
     "text": [
      "/home/shreyas/miniconda3/envs/grader/lib/python3.7/site-packages/sklearn/linear_model/_ridge.py:148: LinAlgWarning: Ill-conditioned matrix (rcond=1.11479e-28): result may not be accurate.\n",
      "  overwrite_a=True).T\n"
     ]
    },
    {
     "data": {
      "image/png": "[encoded data removed]",
      "text/plain": [
       "<Figure size 432x288 with 1 Axes>"
      ]
     },
     "metadata": {
      "needs_background": "light"
     },
     "output_type": "display_data"
    },
    {
     "data": {
      "text/plain": [
       "<Figure size 432x288 with 0 Axes>"
      ]
     },
     "metadata": {},
     "output_type": "display_data"
    }
   ],
   "source": [
    "from sklearn.linear_model import Ridge\n",
    "\n",
    "for i,deg in enumerate([17]):\n",
    "    predictors = ['ones', 'x']\n",
    "    if deg >= 2:\n",
    "        predictors.extend(['x_%d'%i for i in range(2,deg+1)])  \n",
    "\n",
    "    for i,alpha in enumerate([1e-3, 1e7]):\n",
    "        regressor = Ridge(alpha=alpha,normalize=False)\n",
    "        regressor.fit(data[predictors],data['y'])\n",
    "        y_pred = regressor.predict(data[predictors])\n",
    "        plt.scatter(data['x'],data['y'], label='Train')\n",
    "        plt.plot(data['x'], y_pred,'k', label='Prediction')\n",
    "        plt.plot(data['x'], y_true,'g.', label='True Function')\n",
    "        plt.legend() \n",
    "        #format_axes(plt.gca())\n",
    "        #print(regressor.coef_)\n",
    "        plt.ylim([0,60])\n",
    "        plt.title(f\"Degree: {deg} | $\\mu$: {alpha}\")\n",
    "        plt.savefig('ridge_new_{}_{}.pdf'.format(i, deg), transparent=True, bbox_inches=\"tight\")\n",
    "        plt.show()\n",
    "        plt.clf()"
   ]
  }
 ],
 "metadata": {
  "colab": {
   "collapsed_sections": [],
   "name": "Ridge.ipynb",
   "provenance": [],
   "toc_visible": true
  },
  "kernelspec": {
   "display_name": "Python 3",
   "language": "python",
   "name": "python3"
  },
  "language_info": {
   "codemirror_mode": {
    "name": "ipython",
    "version": 3
   },
   "file_extension": ".py",
   "mimetype": "text/x-python",
   "name": "python",
   "nbconvert_exporter": "python",
   "pygments_lexer": "ipython3",
   "version": "3.7.6"
  }
 },
 "nbformat": 4,
 "nbformat_minor": 1
}
