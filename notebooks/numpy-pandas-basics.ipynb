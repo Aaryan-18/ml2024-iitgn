{
 "cells": [
  {
   "cell_type": "raw",
   "metadata": {},
   "source": [
    "---\n",
    "author: Nipun Batra\n",
    "badges: true\n",
    "categories:\n",
    "- ML\n",
    "- Tutorial\n",
    "date: '2023-12-31'\n",
    "title: Numpy Pandas Basics\n",
    "toc: true\n",
    "\n",
    "---\n"
   ]
  },
  {
   "cell_type": "code",
   "execution_count": 1,
   "metadata": {},
   "outputs": [],
   "source": [
    "# importing necessary libraries\n",
    "import numpy as np\n",
    "import pandas as pd\n",
    "import time"
   ]
  },
  {
   "cell_type": "markdown",
   "metadata": {},
   "source": [
    "# Lists"
   ]
  },
  {
   "cell_type": "code",
   "execution_count": 2,
   "metadata": {},
   "outputs": [],
   "source": [
    "# Creating lists\n",
    "list_a = [1, 2, 3, 4, 5]\n",
    "list_b = [6, 7, 8, 9, 10]"
   ]
  },
  {
   "cell_type": "code",
   "execution_count": 3,
   "metadata": {},
   "outputs": [
    {
     "name": "stdout",
     "output_type": "stream",
     "text": [
      "List Sum: [7, 9, 11, 13, 15]\n",
      "Vector Product: [6, 14, 24, 36, 50]\n"
     ]
    }
   ],
   "source": [
    "# Operations on lists\n",
    "# Adding lists\n",
    "list_sum = [a + b for a, b in zip(list_a, list_b)]\n",
    "print(\"List Sum:\", list_sum)\n",
    "\n",
    "# Vector product using lists    \n",
    "vector_product = [a * b for a, b in zip(list_a, list_b)]\n",
    "print(\"Vector Product:\", vector_product)"
   ]
  },
  {
   "cell_type": "markdown",
   "metadata": {},
   "source": [
    "# Numpy Array"
   ]
  },
  {
   "cell_type": "code",
   "execution_count": 4,
   "metadata": {},
   "outputs": [],
   "source": [
    "# Creating numpy arrays\n",
    "numpy_array_a = np.array(list_a)\n",
    "numpy_array_b = np.array(list_b)"
   ]
  },
  {
   "cell_type": "code",
   "execution_count": 5,
   "metadata": {},
   "outputs": [
    {
     "name": "stdout",
     "output_type": "stream",
     "text": [
      "Numpy Sum: [ 7  9 11 13 15]\n",
      "Numpy Vector Product: [ 6 14 24 36 50]\n"
     ]
    }
   ],
   "source": [
    "# Operations on numpy arrays\n",
    "# Adding numpy arrays\n",
    "numpy_sum = numpy_array_a + numpy_array_b\n",
    "print(\"Numpy Sum:\", numpy_sum)\n",
    "\n",
    "# Vector product using numpy arrays\n",
    "numpy_vector_product = np.multiply(numpy_array_a, numpy_array_b)\n",
    "print(\"Numpy Vector Product:\", numpy_vector_product)"
   ]
  },
  {
   "cell_type": "markdown",
   "metadata": {},
   "source": [
    "# Time comparison between list and numpy array"
   ]
  },
  {
   "cell_type": "code",
   "execution_count": 6,
   "metadata": {},
   "outputs": [],
   "source": [
    "# Creating large arrays and lists for time comparison\n",
    "numpy_array_a = np.random.randint(0, 100, size=10000)\n",
    "numpy_array_b = np.random.randint(0, 100, size=10000)\n",
    "\n",
    "list_a = list(numpy_array_a)\n",
    "list_b = list(numpy_array_b)"
   ]
  },
  {
   "cell_type": "code",
   "execution_count": 7,
   "metadata": {},
   "outputs": [
    {
     "name": "stdout",
     "output_type": "stream",
     "text": [
      "Time taken for lists addition: 0.6483831405639648\n",
      "Time taken for numpy addition: 0.0\n"
     ]
    }
   ],
   "source": [
    "# Time for list addition\n",
    "start_time = time.time()\n",
    "for _ in range(1000):\n",
    "    list_sum = [a + b for a, b in zip(list_a, list_b)]\n",
    "end_time = time.time()\n",
    "print(\"Time taken for lists addition:\", end_time - start_time)\n",
    "\n",
    "# Time for numpy addition\n",
    "start_time = time.time()\n",
    "for _ in range(1000):\n",
    "    numpy_sum = numpy_array_a + numpy_array_b\n",
    "end_time = time.time()\n",
    "print(\"Time taken for numpy addition:\", end_time - start_time)"
   ]
  },
  {
   "cell_type": "code",
   "execution_count": 8,
   "metadata": {},
   "outputs": [
    {
     "name": "stdout",
     "output_type": "stream",
     "text": [
      "Time taken for list vector product: 6.146199464797974\n",
      "Time taken for numpy vector product: 0.08333706855773926\n"
     ]
    }
   ],
   "source": [
    "# Time for list vector product\n",
    "start_time = time.time()\n",
    "for _ in range(10000):\n",
    "    list_product = [a * b for a, b in zip(list_a, list_b)]\n",
    "\n",
    "end_time = time.time()\n",
    "print(\"Time taken for list vector product:\", end_time - start_time)\n",
    "\n",
    "# Time for numpy vector product \n",
    "start_time = time.time()\n",
    "for _ in range(10000):\n",
    "    numpy_product = np.multiply(numpy_array_a, numpy_array_b)\n",
    "\n",
    "end_time = time.time()\n",
    "print(\"Time taken for numpy vector product:\", end_time - start_time)"
   ]
  },
  {
   "cell_type": "markdown",
   "metadata": {},
   "source": [
    "# Code clarity"
   ]
  },
  {
   "cell_type": "code",
   "execution_count": 9,
   "metadata": {},
   "outputs": [],
   "source": [
    "# Numpy code is often more concise and readable than list comprehensions\n",
    "# Example: Calculate the element-wise product of two lists\n",
    "list_product = [a * b for a, b in zip(list_a, list_b)]\n",
    "numpy_product = np.multiply(numpy_array_a, numpy_array_b)"
   ]
  },
  {
   "cell_type": "markdown",
   "metadata": {},
   "source": [
    "# Reading CSV file using Pandas"
   ]
  },
  {
   "cell_type": "code",
   "execution_count": 10,
   "metadata": {},
   "outputs": [],
   "source": [
    "# Creating a sample CSV file\n",
    "csv_data = \"\"\"\n",
    "Name,Age,Salary\n",
    "John, 25, 50000\n",
    "Alice, 30, 60000\n",
    "Bob, 28, 55000\n",
    "Vizz, 35, 65000\n",
    "Kate, 35, 65000\n",
    "Alex, 35, 25000\n",
    "Uma, 25, 90000\n",
    "\"\"\""
   ]
  },
  {
   "cell_type": "code",
   "execution_count": 11,
   "metadata": {},
   "outputs": [],
   "source": [
    "with open(\"../data/sample.csv\", \"w\") as file:\n",
    "    file.write(csv_data)"
   ]
  },
  {
   "cell_type": "code",
   "execution_count": 12,
   "metadata": {},
   "outputs": [
    {
     "data": {
      "text/html": [
       "<div>\n",
       "<style scoped>\n",
       "    .dataframe tbody tr th:only-of-type {\n",
       "        vertical-align: middle;\n",
       "    }\n",
       "\n",
       "    .dataframe tbody tr th {\n",
       "        vertical-align: top;\n",
       "    }\n",
       "\n",
       "    .dataframe thead th {\n",
       "        text-align: right;\n",
       "    }\n",
       "</style>\n",
       "<table border=\"1\" class=\"dataframe\">\n",
       "  <thead>\n",
       "    <tr style=\"text-align: right;\">\n",
       "      <th></th>\n",
       "      <th>Name</th>\n",
       "      <th>Age</th>\n",
       "      <th>Salary</th>\n",
       "    </tr>\n",
       "  </thead>\n",
       "  <tbody>\n",
       "    <tr>\n",
       "      <th>0</th>\n",
       "      <td>John</td>\n",
       "      <td>25</td>\n",
       "      <td>50000</td>\n",
       "    </tr>\n",
       "    <tr>\n",
       "      <th>1</th>\n",
       "      <td>Alice</td>\n",
       "      <td>30</td>\n",
       "      <td>60000</td>\n",
       "    </tr>\n",
       "    <tr>\n",
       "      <th>2</th>\n",
       "      <td>Bob</td>\n",
       "      <td>28</td>\n",
       "      <td>55000</td>\n",
       "    </tr>\n",
       "    <tr>\n",
       "      <th>3</th>\n",
       "      <td>Vizz</td>\n",
       "      <td>35</td>\n",
       "      <td>65000</td>\n",
       "    </tr>\n",
       "    <tr>\n",
       "      <th>4</th>\n",
       "      <td>Kate</td>\n",
       "      <td>35</td>\n",
       "      <td>65000</td>\n",
       "    </tr>\n",
       "    <tr>\n",
       "      <th>5</th>\n",
       "      <td>Alex</td>\n",
       "      <td>35</td>\n",
       "      <td>25000</td>\n",
       "    </tr>\n",
       "    <tr>\n",
       "      <th>6</th>\n",
       "      <td>Uma</td>\n",
       "      <td>25</td>\n",
       "      <td>90000</td>\n",
       "    </tr>\n",
       "  </tbody>\n",
       "</table>\n",
       "</div>"
      ],
      "text/plain": [
       "    Name  Age  Salary\n",
       "0   John   25   50000\n",
       "1  Alice   30   60000\n",
       "2    Bob   28   55000\n",
       "3   Vizz   35   65000\n",
       "4   Kate   35   65000\n",
       "5   Alex   35   25000\n",
       "6    Uma   25   90000"
      ]
     },
     "execution_count": 12,
     "metadata": {},
     "output_type": "execute_result"
    }
   ],
   "source": [
    "# Reading CSV into a Pandas DataFrame\n",
    "df = pd.read_csv(\"../data/sample.csv\")\n",
    "df"
   ]
  },
  {
   "cell_type": "code",
   "execution_count": 13,
   "metadata": {},
   "outputs": [
    {
     "data": {
      "text/plain": [
       "0    50000\n",
       "1    60000\n",
       "2    55000\n",
       "3    65000\n",
       "4    65000\n",
       "5    25000\n",
       "6    90000\n",
       "Name: Salary, dtype: int64"
      ]
     },
     "execution_count": 13,
     "metadata": {},
     "output_type": "execute_result"
    }
   ],
   "source": [
    "df['Salary']"
   ]
  },
  {
   "cell_type": "markdown",
   "metadata": {},
   "source": [
    "# Common stats using Pandas"
   ]
  },
  {
   "cell_type": "code",
   "execution_count": 14,
   "metadata": {},
   "outputs": [
    {
     "name": "stdout",
     "output_type": "stream",
     "text": [
      "Mean Salary: 58571.42857142857\n",
      "Mode Age: 35\n"
     ]
    }
   ],
   "source": [
    "# Mean\n",
    "mean_salary = df['Salary'].mean()\n",
    "print(\"Mean Salary:\", mean_salary)\n",
    "\n",
    "# Mode\n",
    "mode_age = df['Age'].mode().values[0]\n",
    "print(\"Mode Age:\", mode_age)"
   ]
  },
  {
   "cell_type": "markdown",
   "metadata": {},
   "source": [
    "# Indexing including binary masks [akin to filter]"
   ]
  },
  {
   "cell_type": "code",
   "execution_count": 15,
   "metadata": {},
   "outputs": [
    {
     "name": "stdout",
     "output_type": "stream",
     "text": [
      "Filtered Data:\n",
      "   Name  Age  Salary\n",
      "3  Vizz   35   65000\n",
      "4  Kate   35   65000\n",
      "5  Alex   35   25000\n"
     ]
    }
   ],
   "source": [
    "# Filtering data based on a condition\n",
    "filtered_data = df[df['Age'] > 30]\n",
    "print(\"Filtered Data:\")\n",
    "print(filtered_data)"
   ]
  },
  {
   "cell_type": "markdown",
   "metadata": {},
   "source": [
    "# Named axis operations"
   ]
  },
  {
   "cell_type": "code",
   "execution_count": 16,
   "metadata": {},
   "outputs": [
    {
     "name": "stdout",
     "output_type": "stream",
     "text": [
      "DataFrame with Bonus:\n",
      "    Name  Age  Salary   Bonus\n",
      "0   John   25   50000  5000.0\n",
      "1  Alice   30   60000  6000.0\n",
      "2    Bob   28   55000  5500.0\n",
      "3   Vizz   35   65000  6500.0\n",
      "4   Kate   35   65000  6500.0\n",
      "5   Alex   35   25000  2500.0\n",
      "6    Uma   25   90000  9000.0\n"
     ]
    }
   ],
   "source": [
    "# Adding a new column to the DataFrame\n",
    "df['Bonus'] = df['Salary'] * 0.1  # Adding a bonus column (10% of salary)\n",
    "print(\"DataFrame with Bonus:\")\n",
    "print(df)"
   ]
  },
  {
   "cell_type": "markdown",
   "metadata": {},
   "source": [
    "# GroupBy"
   ]
  },
  {
   "cell_type": "code",
   "execution_count": 17,
   "metadata": {},
   "outputs": [
    {
     "name": "stdout",
     "output_type": "stream",
     "text": [
      "Grouped Data:\n",
      "   Age        Salary\n",
      "0   25  70000.000000\n",
      "1   28  55000.000000\n",
      "2   30  60000.000000\n",
      "3   35  51666.666667\n"
     ]
    }
   ],
   "source": [
    "# Grouping data by Age and calculating mean salary for each group\n",
    "grouped_data = df.groupby('Age')['Salary'].mean().reset_index()\n",
    "print(\"Grouped Data:\")\n",
    "print(grouped_data)"
   ]
  },
  {
   "cell_type": "markdown",
   "metadata": {},
   "source": [
    "# Value Counts"
   ]
  },
  {
   "cell_type": "code",
   "execution_count": 18,
   "metadata": {},
   "outputs": [
    {
     "name": "stdout",
     "output_type": "stream",
     "text": [
      "Age Counts:\n",
      "Age\n",
      "35    3\n",
      "25    2\n",
      "30    1\n",
      "28    1\n",
      "Name: count, dtype: int64\n"
     ]
    }
   ],
   "source": [
    "# Counting the occurrences of each age in the DataFrame\n",
    "age_counts = df['Age'].value_counts()\n",
    "print(\"Age Counts:\")\n",
    "print(age_counts)"
   ]
  },
  {
   "cell_type": "code",
   "execution_count": null,
   "metadata": {},
   "outputs": [],
   "source": []
  }
 ],
 "metadata": {
  "kernelspec": {
   "display_name": "pml",
   "language": "python",
   "name": "python3"
  },
  "language_info": {
   "codemirror_mode": {
    "name": "ipython",
    "version": 3
   },
   "file_extension": ".py",
   "mimetype": "text/x-python",
   "name": "python",
   "nbconvert_exporter": "python",
   "pygments_lexer": "ipython3",
   "version": "3.11.4"
  }
 },
 "nbformat": 4,
 "nbformat_minor": 2
}
