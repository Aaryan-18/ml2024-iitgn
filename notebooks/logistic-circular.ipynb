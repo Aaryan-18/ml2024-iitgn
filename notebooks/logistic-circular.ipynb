{
 "cells": [
  {
   "cell_type": "code",
   "execution_count": 1,
   "metadata": {},
   "outputs": [],
   "source": [
    "import numpy as np\n",
    "import matplotlib.pyplot as plt\n",
    "%matplotlib inline\n",
    "from latexify import *\n",
    "from sklearn.linear_model import LogisticRegression\n",
    "import matplotlib.patches as mpatches"
   ]
  },
  {
   "cell_type": "code",
   "execution_count": 2,
   "metadata": {},
   "outputs": [],
   "source": [
    "# Choose some points between"
   ]
  },
  {
   "cell_type": "code",
   "execution_count": 3,
   "metadata": {},
   "outputs": [],
   "source": [
    "np.random.seed(0)\n",
    "x1 = np.random.randn(1, 100)\n",
    "x2 = np.random.randn(1, 100)\n"
   ]
  },
  {
   "cell_type": "code",
   "execution_count": 4,
   "metadata": {},
   "outputs": [],
   "source": [
    "y = x1**2 + x2**2"
   ]
  },
  {
   "cell_type": "code",
   "execution_count": 5,
   "metadata": {},
   "outputs": [
    {
     "data": {
      "text/plain": [
       "array([[ 1.76405235,  0.40015721,  0.97873798,  2.2408932 ,  1.86755799,\n",
       "        -0.97727788,  0.95008842, -0.15135721, -0.10321885,  0.4105985 ,\n",
       "         0.14404357,  1.45427351,  0.76103773,  0.12167502,  0.44386323,\n",
       "         0.33367433,  1.49407907, -0.20515826,  0.3130677 , -0.85409574,\n",
       "        -2.55298982,  0.6536186 ,  0.8644362 , -0.74216502,  2.26975462,\n",
       "        -1.45436567,  0.04575852, -0.18718385,  1.53277921,  1.46935877,\n",
       "         0.15494743,  0.37816252, -0.88778575, -1.98079647, -0.34791215,\n",
       "         0.15634897,  1.23029068,  1.20237985, -0.38732682, -0.30230275,\n",
       "        -1.04855297, -1.42001794, -1.70627019,  1.9507754 , -0.50965218,\n",
       "        -0.4380743 , -1.25279536,  0.77749036, -1.61389785, -0.21274028,\n",
       "        -0.89546656,  0.3869025 , -0.51080514, -1.18063218, -0.02818223,\n",
       "         0.42833187,  0.06651722,  0.3024719 , -0.63432209, -0.36274117,\n",
       "        -0.67246045, -0.35955316, -0.81314628, -1.7262826 ,  0.17742614,\n",
       "        -0.40178094, -1.63019835,  0.46278226, -0.90729836,  0.0519454 ,\n",
       "         0.72909056,  0.12898291,  1.13940068, -1.23482582,  0.40234164,\n",
       "        -0.68481009, -0.87079715, -0.57884966, -0.31155253,  0.05616534,\n",
       "        -1.16514984,  0.90082649,  0.46566244, -1.53624369,  1.48825219,\n",
       "         1.89588918,  1.17877957, -0.17992484, -1.07075262,  1.05445173,\n",
       "        -0.40317695,  1.22244507,  0.20827498,  0.97663904,  0.3563664 ,\n",
       "         0.70657317,  0.01050002,  1.78587049,  0.12691209,  0.40198936]])"
      ]
     },
     "execution_count": 5,
     "metadata": {},
     "output_type": "execute_result"
    }
   ],
   "source": [
    "x1"
   ]
  },
  {
   "cell_type": "code",
   "execution_count": 6,
   "metadata": {},
   "outputs": [],
   "source": [
    "y[y>1] = 1\n",
    "y[y<1] = 0\n",
    "\n",
    "c = 0\n",
    "for i in range(100):\n",
    "    if y[0, i] == 1:\n",
    "        y[0, i] = 0\n",
    "        c += 1\n",
    "    if c == 10:\n",
    "        break"
   ]
  },
  {
   "cell_type": "code",
   "execution_count": 7,
   "metadata": {},
   "outputs": [
    {
     "data": {
      "text/plain": [
       "Text(0, 0.5, 'x2')"
      ]
     },
     "execution_count": 7,
     "metadata": {},
     "output_type": "execute_result"
    },
    {
     "data": {
      "image/png": "[encoded data removed]",
      "text/plain": [
       "<Figure size 432x288 with 1 Axes>"
      ]
     },
     "metadata": {
      "needs_background": "light"
     },
     "output_type": "display_data"
    }
   ],
   "source": [
    "plt.scatter(x1, x2, c=y)\n",
    "latexify()\n",
    "yellow_patch = mpatches.Patch(color='yellow', label='Oranges')\n",
    "blue_patch = mpatches.Patch(color='darkblue', label='Tomatoes')\n",
    "plt.legend(handles=[yellow_patch, blue_patch])\n",
    "plt.xlabel(\"x1\")\n",
    "plt.ylabel(\"x2\")"
   ]
  },
  {
   "cell_type": "code",
   "execution_count": 8,
   "metadata": {},
   "outputs": [],
   "source": [
    "new_x = np.zeros((4, 100))\n"
   ]
  },
  {
   "cell_type": "code",
   "execution_count": 9,
   "metadata": {},
   "outputs": [],
   "source": [
    "new_x[0] = x1\n",
    "new_x[1] = x2\n",
    "new_x[2] = x1**2\n",
    "new_x[3] = x2**2"
   ]
  },
  {
   "cell_type": "code",
   "execution_count": 10,
   "metadata": {},
   "outputs": [],
   "source": [
    "clf = LogisticRegression(penalty='none',solver='newton-cg')"
   ]
  },
  {
   "cell_type": "code",
   "execution_count": 11,
   "metadata": {},
   "outputs": [
    {
     "name": "stderr",
     "output_type": "stream",
     "text": [
      "/home/nipunbatra-pc/anaconda3/lib/python3.7/site-packages/sklearn/utils/validation.py:724: DataConversionWarning: A column-vector y was passed when a 1d array was expected. Please change the shape of y to (n_samples, ), for example using ravel().\n",
      "  y = column_or_1d(y, warn=True)\n"
     ]
    },
    {
     "data": {
      "text/plain": [
       "LogisticRegression(C=1.0, class_weight=None, dual=False, fit_intercept=True,\n",
       "                   intercept_scaling=1, l1_ratio=None, max_iter=100,\n",
       "                   multi_class='warn', n_jobs=None, penalty='none',\n",
       "                   random_state=None, solver='newton-cg', tol=0.0001, verbose=0,\n",
       "                   warm_start=False)"
      ]
     },
     "execution_count": 11,
     "metadata": {},
     "output_type": "execute_result"
    }
   ],
   "source": [
    "clf.fit(new_x.T, y.T)"
   ]
  },
  {
   "cell_type": "code",
   "execution_count": 12,
   "metadata": {},
   "outputs": [
    {
     "data": {
      "text/plain": [
       "array([[-0.50464855, -0.30337009,  1.08937351,  0.73697949]])"
      ]
     },
     "execution_count": 12,
     "metadata": {},
     "output_type": "execute_result"
    }
   ],
   "source": [
    "clf.coef_"
   ]
  },
  {
   "cell_type": "code",
   "execution_count": 13,
   "metadata": {},
   "outputs": [
    {
     "data": {
      "text/plain": [
       "array([ 1.76405235,  0.40015721,  0.97873798,  2.2408932 ,  1.86755799,\n",
       "       -0.97727788,  0.95008842, -0.15135721, -0.10321885,  0.4105985 ,\n",
       "        0.14404357,  1.45427351,  0.76103773,  0.12167502,  0.44386323,\n",
       "        0.33367433,  1.49407907, -0.20515826,  0.3130677 , -0.85409574,\n",
       "       -2.55298982,  0.6536186 ,  0.8644362 , -0.74216502,  2.26975462,\n",
       "       -1.45436567,  0.04575852, -0.18718385,  1.53277921,  1.46935877,\n",
       "        0.15494743,  0.37816252, -0.88778575, -1.98079647, -0.34791215,\n",
       "        0.15634897,  1.23029068,  1.20237985, -0.38732682, -0.30230275,\n",
       "       -1.04855297, -1.42001794, -1.70627019,  1.9507754 , -0.50965218,\n",
       "       -0.4380743 , -1.25279536,  0.77749036, -1.61389785, -0.21274028,\n",
       "       -0.89546656,  0.3869025 , -0.51080514, -1.18063218, -0.02818223,\n",
       "        0.42833187,  0.06651722,  0.3024719 , -0.63432209, -0.36274117,\n",
       "       -0.67246045, -0.35955316, -0.81314628, -1.7262826 ,  0.17742614,\n",
       "       -0.40178094, -1.63019835,  0.46278226, -0.90729836,  0.0519454 ,\n",
       "        0.72909056,  0.12898291,  1.13940068, -1.23482582,  0.40234164,\n",
       "       -0.68481009, -0.87079715, -0.57884966, -0.31155253,  0.05616534,\n",
       "       -1.16514984,  0.90082649,  0.46566244, -1.53624369,  1.48825219,\n",
       "        1.89588918,  1.17877957, -0.17992484, -1.07075262,  1.05445173,\n",
       "       -0.40317695,  1.22244507,  0.20827498,  0.97663904,  0.3563664 ,\n",
       "        0.70657317,  0.01050002,  1.78587049,  0.12691209,  0.40198936])"
      ]
     },
     "execution_count": 13,
     "metadata": {},
     "output_type": "execute_result"
    }
   ],
   "source": [
    "new_x.T[:, 0]"
   ]
  },
  {
   "cell_type": "code",
   "execution_count": 14,
   "metadata": {},
   "outputs": [
    {
     "data": {
      "text/plain": [
       "(100, 2)"
      ]
     },
     "execution_count": 14,
     "metadata": {},
     "output_type": "execute_result"
    }
   ],
   "source": [
    "X = np.vstack((x1, x2)).T\n",
    "X.shape"
   ]
  },
  {
   "cell_type": "code",
   "execution_count": 16,
   "metadata": {},
   "outputs": [
    {
     "data": {
      "text/plain": [
       "Text(0, 0.5, 'x2')"
      ]
     },
     "execution_count": 16,
     "metadata": {},
     "output_type": "execute_result"
    },
    {
     "data": {
      "image/png": "[encoded data removed]",
      "text/plain": [
       "<Figure size 244.08x150.85 with 1 Axes>"
      ]
     },
     "metadata": {
      "needs_background": "light"
     },
     "output_type": "display_data"
    }
   ],
   "source": [
    "# create a mesh to plot in\n",
    "x_min, x_max = X[:, 0].min() - 0.3, X[:, 0].max() + 0.3\n",
    "y_min, y_max = X[:, 1].min() - 0.3, X[:, 1].max() + 0.3\n",
    "h = 0.02\n",
    "xx, yy = np.meshgrid(np.arange(x_min, x_max, h),\n",
    "                     np.arange(y_min, y_max, h))\n",
    "\n",
    "\n",
    "\n",
    "\n",
    "\n",
    "Z = clf.predict(np.c_[xx.ravel(), yy.ravel(), np.square(xx.ravel()), np.square(yy.ravel())])\n",
    "\n",
    "# Put the result into a color plot\n",
    "Z = Z.reshape(xx.shape)\n",
    "latexify()\n",
    "yellow_patch = mpatches.Patch(color='yellow', label='Oranges')\n",
    "blue_patch = mpatches.Patch(color='darkblue', label='Tomatoes')\n",
    "pink_patch = mpatches.Patch(color='darksalmon', label='Predict oranges')\n",
    "lblue_patch = mpatches.Patch(color='lightblue', label='Predict tomatoes')\n",
    "plt.legend(handles=[yellow_patch, blue_patch, pink_patch, lblue_patch])\n",
    "\n",
    "plt.contourf(xx, yy, Z, cmap=plt.cm.Paired, alpha=0.4)\n",
    "plt.gca().set_aspect('equal')\n",
    "plt.scatter(x1, x2, c=y)\n",
    "plt.xlabel(\"x1\")\n",
    "plt.ylabel(\"x2\")"
   ]
  },
  {
   "cell_type": "code",
   "execution_count": 17,
   "metadata": {},
   "outputs": [
    {
     "data": {
      "text/plain": [
       "(261, 272)"
      ]
     },
     "execution_count": 17,
     "metadata": {},
     "output_type": "execute_result"
    }
   ],
   "source": [
    "Z.shape"
   ]
  },
  {
   "cell_type": "code",
   "execution_count": 18,
   "metadata": {},
   "outputs": [
    {
     "data": {
      "text/plain": [
       "array([[-2.85298982, -2.52340315,  8.13955089,  6.36756347],\n",
       "       [-2.83298982, -2.52340315,  8.0258313 ,  6.36756347],\n",
       "       [-2.81298982, -2.52340315,  7.9129117 ,  6.36756347],\n",
       "       ...,\n",
       "       [ 2.52701018,  2.67659685,  6.38578047,  7.16417069],\n",
       "       [ 2.54701018,  2.67659685,  6.48726088,  7.16417069],\n",
       "       [ 2.56701018,  2.67659685,  6.58954129,  7.16417069]])"
      ]
     },
     "execution_count": 18,
     "metadata": {},
     "output_type": "execute_result"
    }
   ],
   "source": [
    "np.c_[xx.ravel(), yy.ravel(), np.square(xx.ravel()), np.square(yy.ravel())]"
   ]
  },
  {
   "cell_type": "code",
   "execution_count": 19,
   "metadata": {},
   "outputs": [
    {
     "data": {
      "text/plain": [
       "array([-2.85298982, -2.83298982, -2.81298982, ...,  2.52701018,\n",
       "        2.54701018,  2.56701018])"
      ]
     },
     "execution_count": 19,
     "metadata": {},
     "output_type": "execute_result"
    }
   ],
   "source": [
    "xx.ravel()"
   ]
  },
  {
   "cell_type": "code",
   "execution_count": 20,
   "metadata": {},
   "outputs": [
    {
     "data": {
      "text/plain": [
       "<matplotlib.colorbar.Colorbar at 0x7f2d3cfabc50>"
      ]
     },
     "execution_count": 20,
     "metadata": {},
     "output_type": "execute_result"
    },
    {
     "data": {
      "image/png": "[encoded data removed]",
      "text/plain": [
       "<Figure size 244.08x150.85 with 2 Axes>"
      ]
     },
     "metadata": {
      "needs_background": "light"
     },
     "output_type": "display_data"
    }
   ],
   "source": [
    "# create a mesh to plot in\n",
    "x_min, x_max = X[:, 0].min() - h, X[:, 0].max() + h\n",
    "y_min, y_max = X[:, 1].min() - h, X[:, 1].max() + h\n",
    "h = 0.02\n",
    "xx, yy = np.meshgrid(np.arange(x_min, x_max, h),\n",
    "                     np.arange(y_min, y_max, h))\n",
    "\n",
    "\n",
    "\n",
    "\n",
    "\n",
    "Z = clf.predict_proba(np.c_[xx.ravel(), yy.ravel(), np.square(xx.ravel()), np.square(yy.ravel())])\n",
    "# Put the result into a color plot\n",
    "Z = Z[:, 0].reshape(xx.shape)\n",
    "latexify()\n",
    "plt.contourf(xx, yy, Z,)\n",
    "plt.gca().set_aspect('equal')\n",
    "#plt.scatter(x1, x2, c=y)\n",
    "plt.xlabel(\"x1\")\n",
    "plt.ylabel(\"x2\")\n",
    "plt.colorbar(label='P')\n"
   ]
  },
  {
   "cell_type": "code",
   "execution_count": 27,
   "metadata": {},
   "outputs": [
    {
     "data": {
      "text/plain": [
       "(233, 244)"
      ]
     },
     "execution_count": 27,
     "metadata": {},
     "output_type": "execute_result"
    }
   ],
   "source": [
    "Z.shape"
   ]
  },
  {
   "cell_type": "code",
   "execution_count": 28,
   "metadata": {},
   "outputs": [
    {
     "data": {
      "text/plain": [
       "(233, 244)"
      ]
     },
     "execution_count": 28,
     "metadata": {},
     "output_type": "execute_result"
    }
   ],
   "source": [
    "xx.shape"
   ]
  },
  {
   "cell_type": "code",
   "execution_count": 29,
   "metadata": {},
   "outputs": [
    {
     "data": {
      "text/plain": [
       "56852"
      ]
     },
     "execution_count": 29,
     "metadata": {},
     "output_type": "execute_result"
    }
   ],
   "source": [
    "Z.size"
   ]
  },
  {
   "cell_type": "code",
   "execution_count": 30,
   "metadata": {},
   "outputs": [
    {
     "data": {
      "text/plain": [
       "array([8.49657908e-06, 9.13003276e-06, 9.80492998e-06, 1.05235092e-05,\n",
       "       1.12880936e-05, 1.21010915e-05, 1.29649967e-05, 1.38823887e-05,\n",
       "       1.48559324e-05, 1.58883775e-05, 1.69825580e-05, 1.81413909e-05,\n",
       "       1.93678750e-05, 2.06650891e-05, 2.20361898e-05, 2.34844094e-05,\n",
       "       2.50130523e-05, 2.66254926e-05, 2.83251697e-05, 3.01155846e-05,\n",
       "       3.20002950e-05, 3.39829103e-05, 3.60670864e-05, 3.82565191e-05,\n",
       "       4.05549382e-05, 4.29660999e-05, 4.54937797e-05, 4.81417642e-05,\n",
       "       5.09138427e-05, 5.38137978e-05, 5.68453963e-05, 6.00123789e-05,\n",
       "       6.33184498e-05, 6.67672655e-05, 7.03624235e-05, 7.41074502e-05,\n",
       "       7.80057889e-05, 8.20607864e-05, 8.62756804e-05, 9.06535860e-05,\n",
       "       9.51974814e-05, 9.99101940e-05, 1.04794386e-04, 1.09852541e-04,\n",
       "       1.15086946e-04, 1.20499680e-04, 1.26092597e-04, 1.31867313e-04,\n",
       "       1.37825186e-04, 1.43967309e-04, 1.50294488e-04, 1.56807232e-04,\n",
       "       1.63505734e-04, 1.70389863e-04, 1.77459145e-04, 1.84712754e-04,\n",
       "       1.92149497e-04, 1.99767800e-04, 2.07565701e-04, 2.15540837e-04,\n",
       "       2.23690433e-04, 2.32011295e-04, 2.40499801e-04, 2.49151892e-04,\n",
       "       2.57963070e-04, 2.66928388e-04, 2.76042449e-04, 2.85299405e-04,\n",
       "       2.94692951e-04, 3.04216328e-04, 3.13862324e-04, 3.23623276e-04,\n",
       "       3.33491074e-04, 3.43457166e-04, 3.53512568e-04, 3.63647870e-04,\n",
       "       3.73853244e-04, 3.84118461e-04, 3.94432899e-04, 4.04785563e-04,\n",
       "       4.15165095e-04, 4.25559795e-04, 4.35957643e-04, 4.46346312e-04,\n",
       "       4.56713199e-04, 4.67045440e-04, 4.77329942e-04, 4.87553404e-04,\n",
       "       4.97702346e-04, 5.07763137e-04, 5.17722023e-04, 5.27565161e-04,\n",
       "       5.37278646e-04, 5.46848546e-04, 5.56260932e-04, 5.65501912e-04,\n",
       "       5.74557666e-04, 5.83414480e-04, 5.92058776e-04, 6.00477152e-04,\n",
       "       6.08656413e-04, 6.16583607e-04, 6.24246058e-04, 6.31631397e-04,\n",
       "       6.38727602e-04, 6.45523023e-04, 6.52006418e-04, 6.58166985e-04,\n",
       "       6.63994386e-04, 6.69478782e-04, 6.74610859e-04, 6.79381853e-04,\n",
       "       6.83783574e-04, 6.87808434e-04, 6.91449463e-04, 6.94700333e-04,\n",
       "       6.97555375e-04, 7.00009595e-04, 7.02058691e-04, 7.03699062e-04,\n",
       "       7.04927819e-04, 7.05742797e-04, 7.06142558e-04, 7.06126396e-04,\n",
       "       7.05694340e-04, 7.04847152e-04, 7.03586328e-04, 7.01914089e-04,\n",
       "       6.99833379e-04, 6.97347854e-04, 6.94461870e-04, 6.91180475e-04,\n",
       "       6.87509389e-04, 6.83454991e-04, 6.79024300e-04, 6.74224951e-04,\n",
       "       6.69065179e-04, 6.63553792e-04, 6.57700147e-04, 6.51514122e-04,\n",
       "       6.45006091e-04, 6.38186892e-04, 6.31067801e-04, 6.23660495e-04,\n",
       "       6.15977029e-04, 6.08029792e-04, 5.99831485e-04, 5.91395080e-04,\n",
       "       5.82733790e-04, 5.73861032e-04, 5.64790394e-04, 5.55535600e-04,\n",
       "       5.46110478e-04, 5.36528923e-04, 5.26804865e-04, 5.16952236e-04,\n",
       "       5.06984937e-04, 4.96916807e-04, 4.86761588e-04, 4.76532903e-04,\n",
       "       4.66244218e-04, 4.55908818e-04, 4.45539781e-04, 4.35149951e-04,\n",
       "       4.24751910e-04, 4.14357961e-04, 4.03980102e-04, 3.93630006e-04,\n",
       "       3.83319002e-04, 3.73058059e-04, 3.62857768e-04, 3.52728328e-04,\n",
       "       3.42679533e-04, 3.32720761e-04, 3.22860964e-04, 3.13108659e-04,\n",
       "       3.03471921e-04, 2.93958378e-04, 2.84575208e-04, 2.75329135e-04,\n",
       "       2.66226426e-04, 2.57272897e-04, 2.48473908e-04, 2.39834371e-04,\n",
       "       2.31358751e-04, 2.23051071e-04, 2.14914920e-04, 2.06953460e-04,\n",
       "       1.99169434e-04, 1.91565172e-04, 1.84142606e-04, 1.76903280e-04,\n",
       "       1.69848358e-04, 1.62978639e-04, 1.56294569e-04, 1.49796255e-04,\n",
       "       1.43483476e-04, 1.37355700e-04, 1.31412100e-04, 1.25651561e-04,\n",
       "       1.20072704e-04, 1.14673895e-04, 1.09453261e-04, 1.04408707e-04,\n",
       "       9.95379292e-05, 9.48384304e-05, 9.03075350e-05, 8.59424031e-05,\n",
       "       8.17400455e-05, 7.76973371e-05, 7.38110312e-05, 7.00777730e-05,\n",
       "       6.64941125e-05, 6.30565170e-05, 5.97613843e-05, 5.66050536e-05,\n",
       "       5.35838175e-05, 5.06939330e-05, 4.79316317e-05, 4.52931301e-05,\n",
       "       4.27746387e-05, 4.03723716e-05, 3.80825545e-05, 3.59014329e-05,\n",
       "       3.38252795e-05, 3.18504014e-05, 2.99731460e-05, 2.81899078e-05,\n",
       "       2.64971332e-05, 2.48913259e-05, 2.33690515e-05, 2.19269412e-05,\n",
       "       2.05616959e-05])"
      ]
     },
     "execution_count": 30,
     "metadata": {},
     "output_type": "execute_result"
    }
   ],
   "source": [
    "Z[:, 0]"
   ]
  },
  {
   "cell_type": "code",
   "execution_count": null,
   "metadata": {},
   "outputs": [],
   "source": []
  }
 ],
 "metadata": {
  "kernelspec": {
   "display_name": "Python 3",
   "language": "python",
   "name": "python3"
  },
  "language_info": {
   "codemirror_mode": {
    "name": "ipython",
    "version": 3
   },
   "file_extension": ".py",
   "mimetype": "text/x-python",
   "name": "python",
   "nbconvert_exporter": "python",
   "pygments_lexer": "ipython3",
   "version": "3.7.4"
  }
 },
 "nbformat": 4,
 "nbformat_minor": 2
}
