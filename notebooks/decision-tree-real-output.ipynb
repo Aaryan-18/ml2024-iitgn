{
 "cells": [
  {
   "cell_type": "code",
   "execution_count": 40,
   "metadata": {},
   "outputs": [],
   "source": [
    "import matplotlib.pyplot as plt\n",
    "import numpy as np\n",
    "import pandas as pd\n",
    "# Retina mode\n",
    "%matplotlib inline\n",
    "%config InlineBackend.figure_format = 'retina'\n",
    "\n",
    "from latexify import latexify, format_axes"
   ]
  },
  {
   "cell_type": "code",
   "execution_count": 4,
   "metadata": {},
   "outputs": [],
   "source": [
    "df = pd.read_csv(\"../datasets/tennis-real-output.csv\", index_col=[0])"
   ]
  },
  {
   "cell_type": "code",
   "execution_count": 5,
   "metadata": {},
   "outputs": [
    {
     "data": {
      "text/html": [
       "<div>\n",
       "<style scoped>\n",
       "    .dataframe tbody tr th:only-of-type {\n",
       "        vertical-align: middle;\n",
       "    }\n",
       "\n",
       "    .dataframe tbody tr th {\n",
       "        vertical-align: top;\n",
       "    }\n",
       "\n",
       "    .dataframe thead th {\n",
       "        text-align: right;\n",
       "    }\n",
       "</style>\n",
       "<table border=\"1\" class=\"dataframe\">\n",
       "  <thead>\n",
       "    <tr style=\"text-align: right;\">\n",
       "      <th></th>\n",
       "      <th>Outlook</th>\n",
       "      <th>Temp</th>\n",
       "      <th>Humidity</th>\n",
       "      <th>Wind</th>\n",
       "      <th>Minutes Played</th>\n",
       "    </tr>\n",
       "    <tr>\n",
       "      <th>Day</th>\n",
       "      <th></th>\n",
       "      <th></th>\n",
       "      <th></th>\n",
       "      <th></th>\n",
       "      <th></th>\n",
       "    </tr>\n",
       "  </thead>\n",
       "  <tbody>\n",
       "    <tr>\n",
       "      <th>D1</th>\n",
       "      <td>Sunny</td>\n",
       "      <td>Hot</td>\n",
       "      <td>High</td>\n",
       "      <td>Weak</td>\n",
       "      <td>20</td>\n",
       "    </tr>\n",
       "    <tr>\n",
       "      <th>D2</th>\n",
       "      <td>Sunny</td>\n",
       "      <td>Hot</td>\n",
       "      <td>High</td>\n",
       "      <td>Strong</td>\n",
       "      <td>24</td>\n",
       "    </tr>\n",
       "    <tr>\n",
       "      <th>D3</th>\n",
       "      <td>Overcast</td>\n",
       "      <td>Hot</td>\n",
       "      <td>High</td>\n",
       "      <td>Weak</td>\n",
       "      <td>40</td>\n",
       "    </tr>\n",
       "    <tr>\n",
       "      <th>D4</th>\n",
       "      <td>Rain</td>\n",
       "      <td>Mild</td>\n",
       "      <td>High</td>\n",
       "      <td>Weak</td>\n",
       "      <td>50</td>\n",
       "    </tr>\n",
       "    <tr>\n",
       "      <th>D5</th>\n",
       "      <td>Rain</td>\n",
       "      <td>Cool</td>\n",
       "      <td>Normal</td>\n",
       "      <td>Weak</td>\n",
       "      <td>60</td>\n",
       "    </tr>\n",
       "    <tr>\n",
       "      <th>D6</th>\n",
       "      <td>Rain</td>\n",
       "      <td>Cool</td>\n",
       "      <td>Normal</td>\n",
       "      <td>Strong</td>\n",
       "      <td>10</td>\n",
       "    </tr>\n",
       "    <tr>\n",
       "      <th>D7</th>\n",
       "      <td>Overcast</td>\n",
       "      <td>Cool</td>\n",
       "      <td>Normal</td>\n",
       "      <td>Strong</td>\n",
       "      <td>4</td>\n",
       "    </tr>\n",
       "    <tr>\n",
       "      <th>D8</th>\n",
       "      <td>Sunny</td>\n",
       "      <td>Mild</td>\n",
       "      <td>High</td>\n",
       "      <td>Weak</td>\n",
       "      <td>10</td>\n",
       "    </tr>\n",
       "    <tr>\n",
       "      <th>D9</th>\n",
       "      <td>Sunny</td>\n",
       "      <td>Cool</td>\n",
       "      <td>Normal</td>\n",
       "      <td>Weak</td>\n",
       "      <td>60</td>\n",
       "    </tr>\n",
       "    <tr>\n",
       "      <th>D10</th>\n",
       "      <td>Rain</td>\n",
       "      <td>Mild</td>\n",
       "      <td>Normal</td>\n",
       "      <td>Weak</td>\n",
       "      <td>40</td>\n",
       "    </tr>\n",
       "    <tr>\n",
       "      <th>D11</th>\n",
       "      <td>Sunny</td>\n",
       "      <td>Mild</td>\n",
       "      <td>High</td>\n",
       "      <td>Strong</td>\n",
       "      <td>45</td>\n",
       "    </tr>\n",
       "    <tr>\n",
       "      <th>D12</th>\n",
       "      <td>Overcast</td>\n",
       "      <td>Mild</td>\n",
       "      <td>High</td>\n",
       "      <td>Strong</td>\n",
       "      <td>40</td>\n",
       "    </tr>\n",
       "    <tr>\n",
       "      <th>D13</th>\n",
       "      <td>Overcast</td>\n",
       "      <td>Hot</td>\n",
       "      <td>Normal</td>\n",
       "      <td>Weak</td>\n",
       "      <td>35</td>\n",
       "    </tr>\n",
       "    <tr>\n",
       "      <th>D14</th>\n",
       "      <td>Rain</td>\n",
       "      <td>Mild</td>\n",
       "      <td>High</td>\n",
       "      <td>Strong</td>\n",
       "      <td>20</td>\n",
       "    </tr>\n",
       "  </tbody>\n",
       "</table>\n",
       "</div>"
      ],
      "text/plain": [
       "      Outlook  Temp Humidity    Wind  Minutes Played\n",
       "Day                                                 \n",
       "D1      Sunny   Hot     High    Weak              20\n",
       "D2      Sunny   Hot     High  Strong              24\n",
       "D3   Overcast   Hot     High    Weak              40\n",
       "D4       Rain  Mild     High    Weak              50\n",
       "D5       Rain  Cool   Normal    Weak              60\n",
       "D6       Rain  Cool   Normal  Strong              10\n",
       "D7   Overcast  Cool   Normal  Strong               4\n",
       "D8      Sunny  Mild     High    Weak              10\n",
       "D9      Sunny  Cool   Normal    Weak              60\n",
       "D10      Rain  Mild   Normal    Weak              40\n",
       "D11     Sunny  Mild     High  Strong              45\n",
       "D12  Overcast  Mild     High  Strong              40\n",
       "D13  Overcast   Hot   Normal    Weak              35\n",
       "D14      Rain  Mild     High  Strong              20"
      ]
     },
     "execution_count": 5,
     "metadata": {},
     "output_type": "execute_result"
    }
   ],
   "source": [
    "df"
   ]
  },
  {
   "cell_type": "code",
   "execution_count": 7,
   "metadata": {},
   "outputs": [
    {
     "name": "stdout",
     "output_type": "stream",
     "text": [
      "32.714285714285715\n"
     ]
    }
   ],
   "source": [
    "mean_mins = df[\"Minutes Played\"].mean()\n",
    "print(mean_mins)"
   ]
  },
  {
   "cell_type": "code",
   "execution_count": 8,
   "metadata": {},
   "outputs": [
    {
     "name": "stdout",
     "output_type": "stream",
     "text": [
      "311.3469387755102\n"
     ]
    }
   ],
   "source": [
    "initial_mse = ((df[\"Minutes Played\"] - mean_mins) ** 2).mean()\n",
    "print(initial_mse)"
   ]
  },
  {
   "cell_type": "code",
   "execution_count": 35,
   "metadata": {},
   "outputs": [
    {
     "name": "stdout",
     "output_type": "stream",
     "text": [
      "[20 40 50 60 10 60 40 35]\n",
      "Wind: Weak\n",
      "Subset MSE: 277.734375\n",
      "Weighted MSE = 8/14 * 277.7 = 158.7\n",
      "\n",
      "\n",
      "[24 10  4 45 40 20]\n",
      "Wind: Strong\n",
      "Subset MSE: 218.13888888888889\n",
      "Weighted MSE = 6/14 * 218.1 = 93.49\n",
      "\n",
      "\n",
      "Weighted total MSE: 252.19345238095235\n"
     ]
    }
   ],
   "source": [
    "# Explore MSE for different splits based on the \"Outlook\" attribute\n",
    "weighted_total_mse = 0.0\n",
    "for category in df[\"Wind\"].unique():\n",
    "    subset = df[df[\"Wind\"] == category]\n",
    "    \n",
    "    # Calculate MSE for the subset\n",
    "    mse_subset = ((subset[\"Minutes Played\"] - subset[\"Minutes Played\"].mean()) ** 2).mean()\n",
    "    \n",
    "    # Calculate the weighted MSE\n",
    "    weighted_mse = (len(subset) / len(df)) * mse_subset\n",
    "    weighted_total_mse = weighted_total_mse + weighted_mse\n",
    "    \n",
    "    print(subset[\"Minutes Played\"].values)\n",
    "    print(f\"Wind: {category}\")\n",
    "    print(\"Subset MSE:\", mse_subset)\n",
    "    print(f\"Weighted MSE = {len(subset)}/{len(df)} * {mse_subset:0.4} = {weighted_mse:0.4}\")\n",
    "    print(\"\\n\")\n",
    "\n",
    "print(\"Weighted total MSE:\", weighted_total_mse)"
   ]
  },
  {
   "cell_type": "code",
   "execution_count": 31,
   "metadata": {},
   "outputs": [
    {
     "name": "stdout",
     "output_type": "stream",
     "text": [
      "59.15348639455783\n"
     ]
    }
   ],
   "source": [
    "reduction_mse_wind = initial_mse - weighted_total_mse\n",
    "print(reduction_mse_wind)"
   ]
  },
  {
   "cell_type": "code",
   "execution_count": 27,
   "metadata": {},
   "outputs": [],
   "source": [
    "def reduction_mse(df_dataset, input_attribute, target_attribute):\n",
    "    # Calculate the initial MSE\n",
    "    mean_target = df_dataset[target_attribute].mean()\n",
    "    initial_mse = ((df_dataset[target_attribute] - mean_target) ** 2).mean()\n",
    "    weighted_total_mse = 0.0\n",
    "\n",
    "    for category in df_dataset[input_attribute].unique():\n",
    "        subset = df_dataset[df_dataset[input_attribute] == category]\n",
    "        mse_subset = ((subset[target_attribute] - subset[target_attribute].mean()) ** 2).mean()\n",
    "        \n",
    "        weighted_mse = (len(subset) / len(df_dataset)) * mse_subset\n",
    "        weighted_total_mse = weighted_total_mse + weighted_mse\n",
    "    \n",
    "    return initial_mse - weighted_total_mse\n",
    "\n",
    "    "
   ]
  },
  {
   "cell_type": "code",
   "execution_count": 36,
   "metadata": {},
   "outputs": [],
   "source": [
    "reduction = {}\n",
    "for attribute in [\"Outlook\", \"Temp\", \"Humidity\", \"Wind\"]:\n",
    "    reduction[attribute] = reduction_mse(df, attribute, \"Minutes Played\")\n",
    "    \n",
    "reduction_ser = pd.Series(reduction)"
   ]
  },
  {
   "cell_type": "code",
   "execution_count": 41,
   "metadata": {},
   "outputs": [],
   "source": [
    "latexify()"
   ]
  },
  {
   "cell_type": "code",
   "execution_count": 46,
   "metadata": {},
   "outputs": [
    {
     "data": {
      "image/png": "[encoded data removed]",
      "text/plain": [
       "<Figure size 339x209.514 with 1 Axes>"
      ]
     },
     "metadata": {
      "image/png": {
       "height": 218,
       "width": 319
      }
     },
     "output_type": "display_data"
    }
   ],
   "source": [
    "bars = reduction_ser.plot(kind='bar', rot=0, color='k')\n",
    "format_axes(plt.gca())\n",
    "\n",
    "# Add values on top of the bars\n",
    "for bar in bars.patches:\n",
    "    yval = bar.get_height()\n",
    "    plt.text(bar.get_x() + bar.get_width()/2, yval, round(yval, 2), ha='center', va='bottom')\n",
    "\n",
    "plt.xlabel(\"Attribute\")\n",
    "plt.ylabel(\"Reduction in MSE\")\n",
    "plt.savefig(\"../figures/decision-trees/discrete-input-real-output-level-1.pdf\")"
   ]
  },
  {
   "cell_type": "code",
   "execution_count": 26,
   "metadata": {},
   "outputs": [
    {
     "ename": "AttributeError",
     "evalue": "'DataFrameGroupBy' object has no attribute 'groupsa'",
     "output_type": "error",
     "traceback": [
      "\u001b[0;31m---------------------------------------------------------------------------\u001b[0m",
      "\u001b[0;31mAttributeError\u001b[0m                            Traceback (most recent call last)",
      "Cell \u001b[0;32mIn[26], line 1\u001b[0m\n\u001b[0;32m----> 1\u001b[0m \u001b[43mdf\u001b[49m\u001b[38;5;241;43m.\u001b[39;49m\u001b[43mgroupby\u001b[49m\u001b[43m(\u001b[49m\u001b[38;5;124;43m\"\u001b[39;49m\u001b[38;5;124;43mOutlook\u001b[39;49m\u001b[38;5;124;43m\"\u001b[39;49m\u001b[43m)\u001b[49m\u001b[38;5;241;43m.\u001b[39;49m\u001b[43mgroupsa\u001b[49m\n",
      "File \u001b[0;32m~/miniconda3/lib/python3.9/site-packages/pandas/core/groupby/groupby.py:987\u001b[0m, in \u001b[0;36mGroupBy.__getattr__\u001b[0;34m(self, attr)\u001b[0m\n\u001b[1;32m    984\u001b[0m \u001b[38;5;28;01mif\u001b[39;00m attr \u001b[38;5;129;01min\u001b[39;00m \u001b[38;5;28mself\u001b[39m\u001b[38;5;241m.\u001b[39mobj:\n\u001b[1;32m    985\u001b[0m     \u001b[38;5;28;01mreturn\u001b[39;00m \u001b[38;5;28mself\u001b[39m[attr]\n\u001b[0;32m--> 987\u001b[0m \u001b[38;5;28;01mraise\u001b[39;00m \u001b[38;5;167;01mAttributeError\u001b[39;00m(\n\u001b[1;32m    988\u001b[0m     \u001b[38;5;124mf\u001b[39m\u001b[38;5;124m\"\u001b[39m\u001b[38;5;124m'\u001b[39m\u001b[38;5;132;01m{\u001b[39;00m\u001b[38;5;28mtype\u001b[39m(\u001b[38;5;28mself\u001b[39m)\u001b[38;5;241m.\u001b[39m\u001b[38;5;18m__name__\u001b[39m\u001b[38;5;132;01m}\u001b[39;00m\u001b[38;5;124m'\u001b[39m\u001b[38;5;124m object has no attribute \u001b[39m\u001b[38;5;124m'\u001b[39m\u001b[38;5;132;01m{\u001b[39;00mattr\u001b[38;5;132;01m}\u001b[39;00m\u001b[38;5;124m'\u001b[39m\u001b[38;5;124m\"\u001b[39m\n\u001b[1;32m    989\u001b[0m )\n",
      "\u001b[0;31mAttributeError\u001b[0m: 'DataFrameGroupBy' object has no attribute 'groupsa'"
     ]
    }
   ],
   "source": [
    "df.groupby(\"Outlook\").groupsa"
   ]
  },
  {
   "cell_type": "code",
   "execution_count": 24,
   "metadata": {},
   "outputs": [
    {
     "name": "stderr",
     "output_type": "stream",
     "text": [
      "/var/folders/1x/wmgn24mn1bbd2vgbqlk98tbc0000gn/T/ipykernel_19079/845472961.py:6: RuntimeWarning: divide by zero encountered in log2\n",
      "  return -p * np.log2(p) - (1 - p) * np.log2(1 - p)\n",
      "/var/folders/1x/wmgn24mn1bbd2vgbqlk98tbc0000gn/T/ipykernel_19079/845472961.py:6: RuntimeWarning: invalid value encountered in multiply\n",
      "  return -p * np.log2(p) - (1 - p) * np.log2(1 - p)\n"
     ]
    }
   ],
   "source": [
    "from latexify import latexify, format_axes\n",
    "from scipy.special import xlogy\n",
    "\n",
    "# Function to calculate entropy\n",
    "def entropy(p):\n",
    "    return -p * np.log2(p) - (1 - p) * np.log2(1 - p)\n",
    "\n",
    "# Generate data\n",
    "x_values = np.linspace(0.000, 1.0, 100)  # Avoid log(0) in the calculation\n",
    "y_values = entropy(x_values)"
   ]
  },
  {
   "cell_type": "code",
   "execution_count": 25,
   "metadata": {},
   "outputs": [
    {
     "data": {
      "text/plain": [
       "array([       nan, 0.08146203, 0.14257333, 0.19590927, 0.24414164,\n",
       "       0.28853851, 0.32984607, 0.36855678, 0.40502013, 0.43949699,\n",
       "       0.47218938, 0.50325833, 0.53283506, 0.56102849, 0.58793037,\n",
       "       0.61361902, 0.63816195, 0.66161791, 0.68403844, 0.70546904,\n",
       "       0.72595015, 0.74551784, 0.76420451, 0.78203929, 0.79904852,\n",
       "       0.81525608, 0.83068364, 0.84535094, 0.85927598, 0.87247521,\n",
       "       0.88496364, 0.89675502, 0.90786192, 0.91829583, 0.92806728,\n",
       "       0.93718586, 0.9456603 , 0.95349858, 0.9607079 , 0.96729478,\n",
       "       0.97326507, 0.97862399, 0.98337619, 0.98752571, 0.99107606,\n",
       "       0.99403021, 0.99639062, 0.99815923, 0.9993375 , 0.9999264 ,\n",
       "       0.9999264 , 0.9993375 , 0.99815923, 0.99639062, 0.99403021,\n",
       "       0.99107606, 0.98752571, 0.98337619, 0.97862399, 0.97326507,\n",
       "       0.96729478, 0.9607079 , 0.95349858, 0.9456603 , 0.93718586,\n",
       "       0.92806728, 0.91829583, 0.90786192, 0.89675502, 0.88496364,\n",
       "       0.87247521, 0.85927598, 0.84535094, 0.83068364, 0.81525608,\n",
       "       0.79904852, 0.78203929, 0.76420451, 0.74551784, 0.72595015,\n",
       "       0.70546904, 0.68403844, 0.66161791, 0.63816195, 0.61361902,\n",
       "       0.58793037, 0.56102849, 0.53283506, 0.50325833, 0.47218938,\n",
       "       0.43949699, 0.40502013, 0.36855678, 0.32984607, 0.28853851,\n",
       "       0.24414164, 0.19590927, 0.14257333, 0.08146203,        nan])"
      ]
     },
     "execution_count": 25,
     "metadata": {},
     "output_type": "execute_result"
    }
   ],
   "source": [
    "y_values"
   ]
  },
  {
   "cell_type": "code",
   "execution_count": 26,
   "metadata": {},
   "outputs": [],
   "source": [
    "# Replace NaN values with 0\n",
    "y_values = np.nan_to_num(y_values, nan=0.0)"
   ]
  },
  {
   "cell_type": "code",
   "execution_count": 27,
   "metadata": {},
   "outputs": [],
   "source": [
    "latexify(columns=1)"
   ]
  },
  {
   "cell_type": "code",
   "execution_count": 28,
   "metadata": {},
   "outputs": [
    {
     "data": {
      "image/png": "[encoded data removed]",
      "text/plain": [
       "<Figure size 339x209.514 with 1 Axes>"
      ]
     },
     "metadata": {
      "image/png": {
       "height": 234,
       "width": 322
      }
     },
     "output_type": "display_data"
    }
   ],
   "source": [
    "plt.plot(x_values, y_values, color='black')\n",
    "\n",
    "# Set labels and title\n",
    "plt.xlabel('$P(+)$')\n",
    "plt.ylabel('Entropy')\n",
    "plt.title('Entropy vs. $P(+)$')\n",
    "format_axes(plt.gca())\n",
    "plt.savefig(\"../figures/decision-trees/entropy.pdf\")"
   ]
  },
  {
   "cell_type": "code",
   "execution_count": 29,
   "metadata": {},
   "outputs": [],
   "source": [
    "# Function to calculate entropy with numerical stability\n",
    "def entropy_numerically_stable(p):\n",
    "    return (-xlogy(p, p) - xlogy(1 - p, 1 - p))/np.log(2)\n",
    "\n",
    "y_values = entropy_numerically_stable(x_values)"
   ]
  },
  {
   "cell_type": "code",
   "execution_count": 30,
   "metadata": {},
   "outputs": [
    {
     "data": {
      "text/plain": [
       "[<matplotlib.lines.Line2D at 0x133ff63a0>]"
      ]
     },
     "execution_count": 30,
     "metadata": {},
     "output_type": "execute_result"
    },
    {
     "data": {
      "image/png": "[encoded data removed]",
      "text/plain": [
       "<Figure size 339x209.514 with 1 Axes>"
      ]
     },
     "metadata": {
      "image/png": {
       "height": 200,
       "width": 307
      }
     },
     "output_type": "display_data"
    }
   ],
   "source": [
    "plt.plot(x_values, y_values)"
   ]
  },
  {
   "cell_type": "markdown",
   "metadata": {},
   "source": [
    "How does `xlogy` handle the corner case?"
   ]
  },
  {
   "cell_type": "code",
   "execution_count": 31,
   "metadata": {},
   "outputs": [
    {
     "name": "stdout",
     "output_type": "stream",
     "text": [
      "\u001b[0;31mCall signature:\u001b[0m  \u001b[0mxlogy\u001b[0m\u001b[0;34m(\u001b[0m\u001b[0;34m*\u001b[0m\u001b[0margs\u001b[0m\u001b[0;34m,\u001b[0m \u001b[0;34m**\u001b[0m\u001b[0mkwargs\u001b[0m\u001b[0;34m)\u001b[0m\u001b[0;34m\u001b[0m\u001b[0;34m\u001b[0m\u001b[0m\n",
      "\u001b[0;31mType:\u001b[0m            ufunc\n",
      "\u001b[0;31mString form:\u001b[0m     <ufunc 'xlogy'>\n",
      "\u001b[0;31mFile:\u001b[0m            ~/miniconda3/lib/python3.9/site-packages/numpy/__init__.py\n",
      "\u001b[0;31mDocstring:\u001b[0m      \n",
      "xlogy(x1, x2, /, out=None, *, where=True, casting='same_kind', order='K', dtype=None, subok=True[, signature, extobj])\n",
      "\n",
      "xlogy(x, y, out=None)\n",
      "\n",
      "Compute ``x*log(y)`` so that the result is 0 if ``x = 0``.\n",
      "\n",
      "Parameters\n",
      "----------\n",
      "x : array_like\n",
      "    Multiplier\n",
      "y : array_like\n",
      "    Argument\n",
      "out : ndarray, optional\n",
      "    Optional output array for the function results\n",
      "\n",
      "Returns\n",
      "-------\n",
      "z : scalar or ndarray\n",
      "    Computed x*log(y)\n",
      "\n",
      "Notes\n",
      "-----\n",
      "The log function used in the computation is the natural log.\n",
      "\n",
      ".. versionadded:: 0.13.0\n",
      "\n",
      "Examples\n",
      "--------\n",
      "We can use this function to calculate the binary logistic loss also\n",
      "known as the binary cross entropy. This loss function is used for\n",
      "binary classification problems and is defined as:\n",
      "\n",
      ".. math::\n",
      "    L = 1/n * \\sum_{i=0}^n -(y_i*log(y\\_pred_i) + (1-y_i)*log(1-y\\_pred_i))\n",
      "\n",
      "We can define the parameters `x` and `y` as y and y_pred respectively.\n",
      "y is the array of the actual labels which over here can be either 0 or 1.\n",
      "y_pred is the array of the predicted probabilities with respect to\n",
      "the positive class (1).\n",
      "\n",
      ">>> import numpy as np\n",
      ">>> from scipy.special import xlogy\n",
      ">>> y = np.array([0, 1, 0, 1, 1, 0])\n",
      ">>> y_pred = np.array([0.3, 0.8, 0.4, 0.7, 0.9, 0.2])\n",
      ">>> n = len(y)\n",
      ">>> loss = -(xlogy(y, y_pred) + xlogy(1 - y, 1 - y_pred)).sum()\n",
      ">>> loss /= n\n",
      ">>> loss\n",
      "0.29597052165495025\n",
      "\n",
      "A lower loss is usually better as it indicates that the predictions are\n",
      "similar to the actual labels. In this example since our predicted\n",
      "probabilties are close to the actual labels, we get an overall loss\n",
      "that is reasonably low and appropriate.\n",
      "\u001b[0;31mClass docstring:\u001b[0m\n",
      "Functions that operate element by element on whole arrays.\n",
      "\n",
      "To see the documentation for a specific ufunc, use `info`.  For\n",
      "example, ``np.info(np.sin)``.  Because ufuncs are written in C\n",
      "(for speed) and linked into Python with NumPy's ufunc facility,\n",
      "Python's help() function finds this page whenever help() is called\n",
      "on a ufunc.\n",
      "\n",
      "A detailed explanation of ufuncs can be found in the docs for :ref:`ufuncs`.\n",
      "\n",
      "**Calling ufuncs:** ``op(*x[, out], where=True, **kwargs)``\n",
      "\n",
      "Apply `op` to the arguments `*x` elementwise, broadcasting the arguments.\n",
      "\n",
      "The broadcasting rules are:\n",
      "\n",
      "* Dimensions of length 1 may be prepended to either array.\n",
      "* Arrays may be repeated along dimensions of length 1.\n",
      "\n",
      "Parameters\n",
      "----------\n",
      "*x : array_like\n",
      "    Input arrays.\n",
      "out : ndarray, None, or tuple of ndarray and None, optional\n",
      "    Alternate array object(s) in which to put the result; if provided, it\n",
      "    must have a shape that the inputs broadcast to. A tuple of arrays\n",
      "    (possible only as a keyword argument) must have length equal to the\n",
      "    number of outputs; use None for uninitialized outputs to be\n",
      "    allocated by the ufunc.\n",
      "where : array_like, optional\n",
      "    This condition is broadcast over the input. At locations where the\n",
      "    condition is True, the `out` array will be set to the ufunc result.\n",
      "    Elsewhere, the `out` array will retain its original value.\n",
      "    Note that if an uninitialized `out` array is created via the default\n",
      "    ``out=None``, locations within it where the condition is False will\n",
      "    remain uninitialized.\n",
      "**kwargs\n",
      "    For other keyword-only arguments, see the :ref:`ufunc docs <ufuncs.kwargs>`.\n",
      "\n",
      "Returns\n",
      "-------\n",
      "r : ndarray or tuple of ndarray\n",
      "    `r` will have the shape that the arrays in `x` broadcast to; if `out` is\n",
      "    provided, it will be returned. If not, `r` will be allocated and\n",
      "    may contain uninitialized values. If the function has more than one\n",
      "    output, then the result will be a tuple of arrays.\n"
     ]
    }
   ],
   "source": [
    "xlogy??"
   ]
  },
  {
   "cell_type": "code",
   "execution_count": null,
   "metadata": {},
   "outputs": [],
   "source": []
  }
 ],
 "metadata": {
  "kernelspec": {
   "display_name": "base",
   "language": "python",
   "name": "python3"
  },
  "language_info": {
   "codemirror_mode": {
    "name": "ipython",
    "version": 3
   },
   "file_extension": ".py",
   "mimetype": "text/x-python",
   "name": "python",
   "nbconvert_exporter": "python",
   "pygments_lexer": "ipython3",
   "version": "3.9.15"
  }
 },
 "nbformat": 4,
 "nbformat_minor": 2
}
