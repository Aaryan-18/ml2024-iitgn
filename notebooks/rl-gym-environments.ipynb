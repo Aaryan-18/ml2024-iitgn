{
 "cells": [
  {
   "cell_type": "raw",
   "id": "12a1fd37",
   "metadata": {},
   "source": [
    "---\n",
    "author: Nipun Batra\n",
    "badges: true\n",
    "categories:\n",
    "- ML\n",
    "date: '2024-4-1'\n",
    "output-file: rl-1.html\n",
    "title: Reinforcement Learning 1 Gym Environments\n",
    "toc: true\n",
    "\n",
    "---\n",
    "\n"
   ]
  },
  {
   "cell_type": "markdown",
   "metadata": {},
   "source": [
    "Reference\n",
    "\n",
    "1. [Detailed Explanation and Python Implementation of Q-Learning Algorithm in OpenAI Gym (Cart-Pole)](https://www.youtube.com/watch?v=KMjQmG5Uzis)\n"
   ]
  },
  {
   "attachments": {},
   "cell_type": "markdown",
   "id": "c576bebd",
   "metadata": {},
   "source": [
    "### Basic Imports"
   ]
  },
  {
   "cell_type": "markdown",
   "id": "da3a45ce",
   "metadata": {},
   "source": [
    "https://www.gymlibrary.dev/environments/classic_control/mountain_car/"
   ]
  },
  {
   "cell_type": "code",
   "execution_count": 1,
   "id": "f41ca63d",
   "metadata": {},
   "outputs": [],
   "source": [
    "import matplotlib.pyplot as plt\n",
    "import torch\n",
    "try:\n",
    "    import gymnasium as gym\n",
    "except ImportError:\n",
    "    %pip install gymnasium[classic-control] -q\n",
    "    import gymnasium as gym\n",
    "import numpy as np\n",
    "\n",
    "%matplotlib inline\n",
    "%config InlineBackend.figure_format='retina'"
   ]
  },
  {
   "cell_type": "code",
   "execution_count": null,
   "metadata": {},
   "outputs": [
    {
     "data": {
      "text/plain": [
       "['CartPole-v0',\n",
       " 'CartPole-v1',\n",
       " 'MountainCar-v0',\n",
       " 'MountainCarContinuous-v0',\n",
       " 'Pendulum-v1',\n",
       " 'Acrobot-v1',\n",
       " 'phys2d/CartPole-v0',\n",
       " 'phys2d/CartPole-v1',\n",
       " 'phys2d/Pendulum-v0',\n",
       " 'LunarLander-v2',\n",
       " 'LunarLanderContinuous-v2',\n",
       " 'BipedalWalker-v3',\n",
       " 'BipedalWalkerHardcore-v3',\n",
       " 'CarRacing-v2',\n",
       " 'Blackjack-v1',\n",
       " 'FrozenLake-v1',\n",
       " 'FrozenLake8x8-v1',\n",
       " 'CliffWalking-v0',\n",
       " 'Taxi-v3',\n",
       " 'tabular/Blackjack-v0',\n",
       " 'tabular/CliffWalking-v0',\n",
       " 'Reacher-v2',\n",
       " 'Reacher-v4',\n",
       " 'Pusher-v2',\n",
       " 'Pusher-v4',\n",
       " 'InvertedPendulum-v2',\n",
       " 'InvertedPendulum-v4',\n",
       " 'InvertedDoublePendulum-v2',\n",
       " 'InvertedDoublePendulum-v4',\n",
       " 'HalfCheetah-v2',\n",
       " 'HalfCheetah-v3',\n",
       " 'HalfCheetah-v4',\n",
       " 'Hopper-v2',\n",
       " 'Hopper-v3',\n",
       " 'Hopper-v4',\n",
       " 'Swimmer-v2',\n",
       " 'Swimmer-v3',\n",
       " 'Swimmer-v4',\n",
       " 'Walker2d-v2',\n",
       " 'Walker2d-v3',\n",
       " 'Walker2d-v4',\n",
       " 'Ant-v2',\n",
       " 'Ant-v3',\n",
       " 'Ant-v4',\n",
       " 'Humanoid-v2',\n",
       " 'Humanoid-v3',\n",
       " 'Humanoid-v4',\n",
       " 'HumanoidStandup-v2',\n",
       " 'HumanoidStandup-v4',\n",
       " 'GymV21Environment-v0',\n",
       " 'GymV26Environment-v0']"
      ]
     },
     "execution_count": 8,
     "metadata": {},
     "output_type": "execute_result"
    }
   ],
   "source": [
    "# List of environments\n",
    "list(gym.envs.registry.keys())"
   ]
  },
  {
   "cell_type": "code",
   "execution_count": 9,
   "id": "812894e3",
   "metadata": {},
   "outputs": [],
   "source": [
    "env = gym.make('MountainCar-v0', render_mode='human')"
   ]
  },
  {
   "cell_type": "code",
   "execution_count": 10,
   "id": "3c8f48da",
   "metadata": {},
   "outputs": [],
   "source": [
    "observation, info = env.reset(seed=42)"
   ]
  },
  {
   "cell_type": "code",
   "execution_count": 11,
   "id": "e9a97e3b",
   "metadata": {},
   "outputs": [
    {
     "data": {
      "text/plain": [
       "array([-0.4452088,  0.       ], dtype=float32)"
      ]
     },
     "execution_count": 11,
     "metadata": {},
     "output_type": "execute_result"
    }
   ],
   "source": [
    "observation"
   ]
  },
  {
   "cell_type": "code",
   "execution_count": 12,
   "id": "c0af7b05",
   "metadata": {},
   "outputs": [
    {
     "data": {
      "text/plain": [
       "{}"
      ]
     },
     "execution_count": 12,
     "metadata": {},
     "output_type": "execute_result"
    }
   ],
   "source": [
    "info"
   ]
  },
  {
   "cell_type": "code",
   "execution_count": 13,
   "id": "1005ca41",
   "metadata": {},
   "outputs": [
    {
     "data": {
      "text/plain": [
       "<TimeLimit<OrderEnforcing<PassiveEnvChecker<MountainCarEnv<MountainCar-v0>>>>>"
      ]
     },
     "execution_count": 13,
     "metadata": {},
     "output_type": "execute_result"
    }
   ],
   "source": [
    "env"
   ]
  },
  {
   "cell_type": "code",
   "execution_count": 14,
   "id": "f9fed8a5",
   "metadata": {},
   "outputs": [
    {
     "data": {
      "text/plain": [
       "Discrete(3)"
      ]
     },
     "execution_count": 14,
     "metadata": {},
     "output_type": "execute_result"
    }
   ],
   "source": [
    "env.action_space"
   ]
  },
  {
   "cell_type": "code",
   "execution_count": 15,
   "id": "d7629ce1",
   "metadata": {},
   "outputs": [
    {
     "data": {
      "text/plain": [
       "3"
      ]
     },
     "execution_count": 15,
     "metadata": {},
     "output_type": "execute_result"
    }
   ],
   "source": [
    "env.action_space.n"
   ]
  },
  {
   "cell_type": "code",
   "execution_count": 16,
   "id": "b70e31b3",
   "metadata": {},
   "outputs": [
    {
     "data": {
      "text/plain": [
       "(-inf, inf)"
      ]
     },
     "execution_count": 16,
     "metadata": {},
     "output_type": "execute_result"
    }
   ],
   "source": [
    "env.reward_range"
   ]
  },
  {
   "cell_type": "code",
   "execution_count": 17,
   "id": "b56d2e6f",
   "metadata": {},
   "outputs": [
    {
     "name": "stdout",
     "output_type": "stream",
     "text": [
      "0 0\n",
      "1 1\n",
      "2 1\n",
      "3 0\n",
      "4 2\n",
      "5 0\n",
      "6 2\n",
      "7 0\n",
      "8 1\n",
      "9 1\n"
     ]
    }
   ],
   "source": [
    "for i in range(10):\n",
    "    print(i, env.action_space.sample())"
   ]
  },
  {
   "cell_type": "code",
   "execution_count": 18,
   "id": "bfa88156",
   "metadata": {},
   "outputs": [
    {
     "data": {
      "text/plain": [
       "Box([-1.2  -0.07], [0.6  0.07], (2,), float32)"
      ]
     },
     "execution_count": 18,
     "metadata": {},
     "output_type": "execute_result"
    }
   ],
   "source": [
    "env.observation_space  "
   ]
  },
  {
   "cell_type": "code",
   "execution_count": 19,
   "id": "ca0bc3b7",
   "metadata": {},
   "outputs": [
    {
     "data": {
      "text/plain": [
       "array([0.6 , 0.07], dtype=float32)"
      ]
     },
     "execution_count": 19,
     "metadata": {},
     "output_type": "execute_result"
    }
   ],
   "source": [
    "env.observation_space.high"
   ]
  },
  {
   "cell_type": "code",
   "execution_count": 20,
   "id": "c1f937db",
   "metadata": {},
   "outputs": [
    {
     "data": {
      "text/plain": [
       "array([-0.2961844, -0.034966 ], dtype=float32)"
      ]
     },
     "execution_count": 20,
     "metadata": {},
     "output_type": "execute_result"
    }
   ],
   "source": [
    "env.observation_space.sample()"
   ]
  },
  {
   "cell_type": "code",
   "execution_count": 21,
   "id": "72a743a9",
   "metadata": {},
   "outputs": [
    {
     "name": "stdout",
     "output_type": "stream",
     "text": [
      "0 [-4.4479132e-01  4.1747934e-04] -1.0 False False {}\n",
      "1 [-0.4439594   0.00083191] -1.0 False False {}\n",
      "2 [-4.4371912e-01  2.4028514e-04] -1.0 False False {}\n",
      "3 [-0.4450722  -0.00135309] -1.0 False False {}\n",
      "4 [-0.4480088  -0.00293661] -1.0 False False {}\n",
      "5 [-0.45050752 -0.00249869] -1.0 False False {}\n",
      "6 [-0.45355    -0.00304249] -1.0 False False {}\n",
      "7 [-0.456114 -0.002564] -1.0 False False {}\n",
      "8 [-0.45918068 -0.00306668] -1.0 False False {}\n",
      "9 [-0.4637275  -0.00454682] -1.0 False False {}\n",
      "10 [-0.46772096 -0.00399344] -1.0 False False {}\n",
      "11 [-0.47213152 -0.00441057] -1.0 False False {}\n",
      "12 [-0.47692657 -0.00479504] -1.0 False False {}\n",
      "13 [-0.48207048 -0.00514394] -1.0 False False {}\n",
      "14 [-0.4885251 -0.0064546] -1.0 False False {}\n",
      "15 [-0.49624225 -0.00771716] -1.0 False False {}\n",
      "16 [-0.50316435 -0.00692211] -1.0 False False {}\n",
      "17 [-0.51123965 -0.00807527] -1.0 False False {}\n",
      "18 [-0.52040756 -0.00916794] -1.0 False False {}\n",
      "19 [-0.5295994  -0.00919187] -1.0 False False {}\n",
      "20 [-0.5377463  -0.00814687] -1.0 False False {}\n",
      "21 [-0.5447871 -0.0070408] -1.0 False False {}\n",
      "22 [-0.5506691  -0.00588199] -1.0 False False {}\n",
      "23 [-0.5573483  -0.00667919] -1.0 False False {}\n",
      "24 [-0.56377476 -0.0064265 ] -1.0 False False {}\n",
      "25 [-0.5699007  -0.00612591] -1.0 False False {}\n",
      "26 [-0.57568043 -0.00577976] -1.0 False False {}\n",
      "27 [-0.5810712  -0.00539073] -1.0 False False {}\n",
      "28 [-0.58703303 -0.00596182] -1.0 False False {}\n",
      "29 [-0.5915219  -0.00448893] -1.0 False False {}\n",
      "30 [-0.596505   -0.00498303] -1.0 False False {}\n",
      "31 [-0.60094553 -0.00444058] -1.0 False False {}\n",
      "32 [-0.6048112  -0.00386567] -1.0 False False {}\n",
      "33 [-0.6070738  -0.00226259] -1.0 False False {}\n",
      "34 [-0.60771686 -0.00064305] -1.0 False False {}\n",
      "35 [-0.6067357   0.00098116] -1.0 False False {}\n",
      "36 [-6.0613745e-01  5.9824740e-04] -1.0 False False {}\n",
      "37 [-0.6039265   0.00221098] -1.0 False False {}\n",
      "38 [-0.6001188   0.00380762] -1.0 False False {}\n",
      "39 [-0.59474236  0.0053765 ] -1.0 False False {}\n",
      "40 [-0.5878363   0.00690603] -1.0 False False {}\n",
      "41 [-0.57945144  0.00838484] -1.0 False False {}\n",
      "42 [-0.5696497   0.00980178] -1.0 False False {}\n",
      "43 [-0.56050366  0.00914606] -1.0 False False {}\n",
      "44 [-0.55208135  0.00842228] -1.0 False False {}\n",
      "45 [-0.5444457   0.00763564] -1.0 False False {}\n",
      "46 [-0.5356538   0.00879189] -1.0 False False {}\n",
      "47 [-0.52677155  0.00888228] -1.0 False False {}\n",
      "48 [-0.51686543  0.00990608] -1.0 False False {}\n",
      "49 [-0.50700986  0.00985558] -1.0 False False {}\n",
      "50 [-0.49827865  0.00873122] -1.0 False False {}\n",
      "51 [-0.48873717  0.0095415 ] -1.0 False False {}\n",
      "52 [-0.47845665  0.01028051] -1.0 False False {}\n",
      "53 [-0.46851367  0.00994298] -1.0 False False {}\n",
      "54 [-0.45998195  0.00853172] -1.0 False False {}\n",
      "55 [-0.45092446  0.00905749] -1.0 False False {}\n",
      "56 [-0.44140774  0.00951674] -1.0 False False {}\n",
      "57 [-0.4325012   0.00890653] -1.0 False False {}\n",
      "58 [-0.42326942  0.00923177] -1.0 False False {}\n",
      "59 [-0.4137788   0.00949061] -1.0 False False {}\n",
      "60 [-0.40509704  0.00868178] -1.0 False False {}\n",
      "61 [-0.3972854   0.00781162] -1.0 False False {}\n",
      "62 [-0.39039862  0.00688678] -1.0 False False {}\n",
      "63 [-0.38348448  0.00691416] -1.0 False False {}\n",
      "64 [-0.3785905   0.00489397] -1.0 False False {}\n",
      "65 [-0.3757501   0.00284039] -1.0 False False {}\n",
      "66 [-0.3729826   0.00276753] -1.0 False False {}\n",
      "67 [-0.37030664  0.00267595] -1.0 False False {}\n",
      "68 [-0.36974028  0.00056636] -1.0 False False {}\n",
      "69 [-0.37128732 -0.00154704] -1.0 False False {}\n",
      "70 [-0.37393734 -0.00265004] -1.0 False False {}\n",
      "71 [-0.3776725  -0.00373516] -1.0 False False {}\n",
      "72 [-0.3814675  -0.00379498] -1.0 False False {}\n",
      "73 [-0.38529643 -0.00382896] -1.0 False False {}\n",
      "74 [-0.38913316 -0.00383672] -1.0 False False {}\n",
      "75 [-0.39295125 -0.00381808] -1.0 False False {}\n",
      "76 [-0.39672428 -0.00377305] -1.0 False False {}\n",
      "77 [-0.4004261  -0.00370179] -1.0 False False {}\n",
      "78 [-0.4060308  -0.00560471] -1.0 False False {}\n",
      "79 [-0.4134991 -0.0074683] -1.0 False False {}\n",
      "80 [-0.4217782  -0.00827911] -1.0 False False {}\n",
      "81 [-0.43080917 -0.00903095] -1.0 False False {}\n",
      "82 [-0.44152707 -0.01071792] -1.0 False False {}\n",
      "83 [-0.45285434 -0.01132725] -1.0 False False {}\n",
      "84 [-0.4647082  -0.01185386] -1.0 False False {}\n",
      "85 [-0.47600144 -0.01129325] -1.0 False False {}\n",
      "86 [-0.48865047 -0.01264902] -1.0 False False {}\n",
      "87 [-0.5025611  -0.01391065] -1.0 False False {}\n",
      "88 [-0.51662946 -0.01406833] -1.0 False False {}\n",
      "89 [-0.53075004 -0.01412059] -1.0 False False {}\n",
      "90 [-0.544817   -0.01406696] -1.0 False False {}\n",
      "91 [-0.55772495 -0.01290793] -1.0 False False {}\n",
      "92 [-0.57037735 -0.01265243] -1.0 False False {}\n",
      "93 [-0.5816801  -0.01130275] -1.0 False False {}\n",
      "94 [-0.59154946 -0.00986934] -1.0 False False {}\n",
      "95 [-0.6019127  -0.01036323] -1.0 False False {}\n",
      "96 [-0.61269397 -0.01078126] -1.0 False False {}\n",
      "97 [-0.6218149  -0.00912098] -1.0 False False {}\n",
      "98 [-0.6312099  -0.00939497] -1.0 False False {}\n",
      "99 [-0.6388117  -0.00760183] -1.0 False False {}\n"
     ]
    }
   ],
   "source": [
    "env.reset(seed=42)\n",
    "for i in range(100):\n",
    "    env.render()\n",
    "    action = env.action_space.sample()\n",
    "    observation, reward, terminated, truncated, info = env.step(action)\n",
    "    print(i, observation, reward, terminated, truncated, info)\n",
    "    if terminated:\n",
    "        break\n",
    "    "
   ]
  },
  {
   "cell_type": "code",
   "execution_count": 22,
   "id": "c8e9bb21",
   "metadata": {},
   "outputs": [
    {
     "name": "stdout",
     "output_type": "stream",
     "text": [
      "0 [-4.4479132e-01  4.1747934e-04] -1.0 False False {}\n",
      "1 [-0.4439594   0.00083191] -1.0 False False {}\n",
      "2 [-0.4427191   0.00124029] -1.0 False False {}\n",
      "3 [-0.4410795   0.00163962] -1.0 False False {}\n",
      "4 [-0.43905246  0.00202703] -1.0 False False {}\n",
      "5 [-0.43665275  0.00239971] -1.0 False False {}\n",
      "6 [-0.43389776  0.00275498] -1.0 False False {}\n",
      "7 [-0.43080744  0.00309032] -1.0 False False {}\n",
      "8 [-0.4274041   0.00340333] -1.0 False False {}\n",
      "9 [-0.42371225  0.00369185] -1.0 False False {}\n",
      "10 [-0.4197584   0.00395386] -1.0 False False {}\n",
      "11 [-0.41557083  0.00418759] -1.0 False False {}\n",
      "12 [-0.41117933  0.00439149] -1.0 False False {}\n",
      "13 [-0.40661508  0.00456424] -1.0 False False {}\n",
      "14 [-0.40191033  0.00470476] -1.0 False False {}\n",
      "15 [-0.3970981   0.00481224] -1.0 False False {}\n",
      "16 [-0.392212    0.00488609] -1.0 False False {}\n",
      "17 [-0.38728598  0.00492601] -1.0 False False {}\n",
      "18 [-0.38235408  0.00493192] -1.0 False False {}\n",
      "19 [-0.37745008  0.004904  ] -1.0 False False {}\n",
      "20 [-0.3726074   0.00484267] -1.0 False False {}\n",
      "21 [-0.36785883  0.00474856] -1.0 False False {}\n",
      "22 [-0.36323628  0.00462255] -1.0 False False {}\n",
      "23 [-0.3587706   0.00446569] -1.0 False False {}\n",
      "24 [-0.35449135  0.00427925] -1.0 False False {}\n",
      "25 [-0.3504267   0.00406465] -1.0 False False {}\n",
      "26 [-0.3466032  0.0038235] -1.0 False False {}\n",
      "27 [-0.34304565  0.00355754] -1.0 False False {}\n",
      "28 [-0.33977702  0.00326864] -1.0 False False {}\n",
      "29 [-0.33681822  0.0029588 ] -1.0 False False {}\n",
      "30 [-0.3341881   0.00263011] -1.0 False False {}\n",
      "31 [-0.33190334  0.00228476] -1.0 False False {}\n",
      "32 [-0.32997838  0.00192499] -1.0 False False {}\n",
      "33 [-0.32842523  0.00155313] -1.0 False False {}\n",
      "34 [-0.3272537   0.00117154] -1.0 False False {}\n",
      "35 [-0.32647103  0.00078265] -1.0 False False {}\n",
      "36 [-0.32608217  0.00038887] -1.0 False False {}\n",
      "37 [-3.2608950e-01 -7.3227225e-06] -1.0 False False {}\n",
      "38 [-0.32649297 -0.00040347] -1.0 False False {}\n",
      "39 [-0.3272901  -0.00079711] -1.0 False False {}\n",
      "40 [-0.32847586 -0.00118578] -1.0 False False {}\n",
      "41 [-0.3300429  -0.00156705] -1.0 False False {}\n",
      "42 [-0.33198142 -0.0019385 ] -1.0 False False {}\n",
      "43 [-0.33427918 -0.00229778] -1.0 False False {}\n",
      "44 [-0.33692175 -0.00264256] -1.0 False False {}\n",
      "45 [-0.33989236 -0.00297059] -1.0 False False {}\n",
      "46 [-0.34317204 -0.0032797 ] -1.0 False False {}\n",
      "47 [-0.34673983 -0.00356778] -1.0 False False {}\n",
      "48 [-0.35057268 -0.00383286] -1.0 False False {}\n",
      "49 [-0.35464573 -0.00407306] -1.0 False False {}\n",
      "50 [-0.35893238 -0.00428664] -1.0 False False {}\n",
      "51 [-0.3634044  -0.00447202] -1.0 False False {}\n",
      "52 [-0.36803216 -0.00462776] -1.0 False False {}\n",
      "53 [-0.37278476 -0.00475261] -1.0 False False {}\n",
      "54 [-0.3776303  -0.00484552] -1.0 False False {}\n",
      "55 [-0.3825359  -0.00490563] -1.0 False False {}\n",
      "56 [-0.38746822 -0.0049323 ] -1.0 False False {}\n",
      "57 [-0.39239335 -0.00492514] -1.0 False False {}\n",
      "58 [-0.39727733 -0.00488397] -1.0 False False {}\n",
      "59 [-0.40208617 -0.00480886] -1.0 False False {}\n",
      "60 [-0.40678635 -0.00470015] -1.0 False False {}\n",
      "61 [-0.41134477 -0.00455843] -1.0 False False {}\n",
      "62 [-0.41572928 -0.00438451] -1.0 False False {}\n",
      "63 [-0.41990876 -0.00417948] -1.0 False False {}\n",
      "64 [-0.42385343 -0.00394468] -1.0 False False {}\n",
      "65 [-0.4275351  -0.00368165] -1.0 False False {}\n",
      "66 [-0.43092728 -0.0033922 ] -1.0 False False {}\n",
      "67 [-0.4340056  -0.00307832] -1.0 False False {}\n",
      "68 [-0.4367478 -0.0027422] -1.0 False False {}\n",
      "69 [-0.43913403 -0.00238624] -1.0 False False {}\n",
      "70 [-0.441147   -0.00201297] -1.0 False False {}\n",
      "71 [-0.4427721  -0.00162507] -1.0 False False {}\n",
      "72 [-0.4439974  -0.00122535] -1.0 False False {}\n",
      "73 [-0.44481412 -0.0008167 ] -1.0 False False {}\n",
      "74 [-4.452162e-01 -4.020977e-04] -1.0 False False {}\n",
      "75 [-4.4520080e-01  1.5435844e-05] -1.0 False False {}\n",
      "76 [-4.4476792e-01  4.3285682e-04] -1.0 False False {}\n",
      "77 [-0.44392082  0.00084712] -1.0 False False {}\n",
      "78 [-0.4426656   0.00125521] -1.0 False False {}\n",
      "79 [-0.44101143  0.00165416] -1.0 False False {}\n",
      "80 [-0.43897036  0.00204107] -1.0 False False {}\n",
      "81 [-0.4365572   0.00241315] -1.0 False False {}\n",
      "82 [-0.4337895   0.00276774] -1.0 False False {}\n",
      "83 [-0.4306872   0.00310229] -1.0 False False {}\n",
      "84 [-0.42727277  0.00341444] -1.0 False False {}\n",
      "85 [-0.42357075  0.00370201] -1.0 False False {}\n",
      "86 [-0.41960773  0.003963  ] -1.0 False False {}\n",
      "87 [-0.41541207  0.00419566] -1.0 False False {}\n",
      "88 [-0.41101363  0.00439843] -1.0 False False {}\n",
      "89 [-0.40644366  0.00457001] -1.0 False False {}\n",
      "90 [-0.40173432  0.00470932] -1.0 False False {}\n",
      "91 [-0.39691874  0.00481556] -1.0 False False {}\n",
      "92 [-0.3920306   0.00488817] -1.0 False False {}\n",
      "93 [-0.38710377  0.00492683] -1.0 False False {}\n",
      "94 [-0.38217226  0.00493149] -1.0 False False {}\n",
      "95 [-0.37726995  0.00490233] -1.0 False False {}\n",
      "96 [-0.37243018  0.00483977] -1.0 False False {}\n",
      "97 [-0.3676857   0.00474447] -1.0 False False {}\n",
      "98 [-0.3630684  0.0046173] -1.0 False False {}\n",
      "99 [-0.35860908  0.00445932] -1.0 False False {}\n"
     ]
    }
   ],
   "source": [
    "# Does it help to always go right?\n",
    "env.reset(seed=42)\n",
    "for i in range(100):\n",
    "    env.render()\n",
    "    action = 2\n",
    "    observation, reward, terminated, truncated, info = env.step(action)\n",
    "    print(i, observation, reward, terminated, truncated, info)\n",
    "    if terminated:\n",
    "        break"
   ]
  },
  {
   "cell_type": "code",
   "execution_count": 41,
   "id": "a0282aa2",
   "metadata": {},
   "outputs": [
    {
     "name": "stdout",
     "output_type": "stream",
     "text": [
      "0 [-0.44679132 -0.00158252] -1.0 False False {}\n",
      "1 [-0.4499448  -0.00315349] -1.0 False False {}\n",
      "2 [-0.45464623 -0.00470141] -1.0 False False {}\n",
      "3 [-0.4608611  -0.00621488] -1.0 False False {}\n",
      "4 [-0.46854374 -0.00768264] -1.0 False False {}\n",
      "5 [-0.4776374  -0.00909367] -1.0 False False {}\n",
      "6 [-0.4880747  -0.01043729] -1.0 False False {}\n",
      "7 [-0.4997779  -0.01170322] -1.0 False False {}\n",
      "8 [-0.51265967 -0.01288173] -1.0 False False {}\n",
      "9 [-0.52662337 -0.01396375] -1.0 False False {}\n",
      "10 [-0.54156446 -0.01494107] -1.0 False False {}\n",
      "11 [-0.55737084 -0.01580639] -1.0 False False {}\n",
      "12 [-0.5739244  -0.01655353] -1.0 False False {}\n",
      "13 [-0.59110194 -0.01717752] -1.0 False False {}\n",
      "14 [-0.6087766 -0.0176747] -1.0 False False {}\n",
      "15 [-0.62681943 -0.0180428 ] -1.0 False False {}\n",
      "16 [-0.64510036 -0.01828096] -1.0 False False {}\n",
      "17 [-0.6634901  -0.01838974] -1.0 False False {}\n",
      "18 [-0.6818612  -0.01837108] -1.0 False False {}\n",
      "19 [-0.7000894  -0.01822821] -1.0 False False {}\n",
      "20 [-0.71805495 -0.01796552] -1.0 False False {}\n",
      "21 [-0.7356433  -0.01758842] -1.0 False False {}\n",
      "22 [-0.7527465 -0.0171032] -1.0 False False {}\n",
      "23 [-0.7692633  -0.01651679] -1.0 False False {}\n",
      "24 [-0.7851     -0.01583663] -1.0 False False {}\n",
      "25 [-0.8001704  -0.01507044] -1.0 False False {}\n",
      "26 [-0.8143965  -0.01422609] -1.0 False False {}\n",
      "27 [-0.82770795 -0.01331142] -1.0 False False {}\n",
      "28 [-0.840042   -0.01233409] -1.0 False False {}\n",
      "29 [-0.8513436  -0.01130153] -1.0 False False {}\n",
      "30 [-0.86156434 -0.01022079] -1.0 False False {}\n",
      "31 [-0.87066287 -0.00909855] -1.0 False False {}\n",
      "32 [-0.87860394 -0.00794103] -1.0 False False {}\n",
      "33 [-0.885358   -0.00675404] -1.0 False False {}\n",
      "34 [-0.8909009  -0.00554296] -1.0 False False {}\n",
      "35 [-0.8952137  -0.00431278] -1.0 False False {}\n",
      "36 [-0.8982819  -0.00306818] -1.0 False False {}\n",
      "37 [-0.9000954  -0.00181353] -1.0 False False {}\n",
      "38 [-9.006485e-01 -5.530463e-04] -1.0 False False {}\n",
      "39 [-8.9993924e-01  7.0920831e-04] -1.0 False False {}\n",
      "40 [-0.8979701   0.00196919] -1.0 False False {}\n",
      "41 [-0.8947472   0.00322283] -1.0 False False {}\n",
      "42 [-0.8902813   0.00446589] -1.0 False False {}\n",
      "43 [-0.88458735  0.00569396] -1.0 False False {}\n",
      "44 [-0.877685    0.00690234] -1.0 False False {}\n",
      "45 [-0.86959904  0.00808598] -1.0 False False {}\n",
      "46 [-0.8603596   0.00923946] -1.0 False False {}\n",
      "47 [-0.85000265  0.01035692] -1.0 False False {}\n",
      "48 [-0.8385706   0.01143206] -1.0 False False {}\n",
      "49 [-0.82611245  0.01245818] -1.0 False False {}\n",
      "50 [-0.81068426  0.01542816] -1.0 False False {}\n",
      "51 [-0.7923595   0.01832481] -1.0 False False {}\n",
      "52 [-0.77123034  0.02112911] -1.0 False False {}\n",
      "53 [-0.7474102   0.02382017] -1.0 False False {}\n",
      "54 [-0.72103477  0.02637544] -1.0 False False {}\n",
      "55 [-0.6922636   0.02877113] -1.0 False False {}\n",
      "56 [-0.66128075  0.03098283] -1.0 False False {}\n",
      "57 [-0.62829447  0.03298633] -1.0 False False {}\n",
      "58 [-0.5935357  0.0347587] -1.0 False False {}\n",
      "59 [-0.55725634  0.03627939] -1.0 False False {}\n",
      "60 [-0.51972497  0.03753139] -1.0 False False {}\n",
      "61 [-0.48122263  0.03850234] -1.0 False False {}\n",
      "62 [-0.44203725  0.03918537] -1.0 False False {}\n",
      "63 [-0.4024575   0.03957975] -1.0 False False {}\n",
      "64 [-0.36276644  0.03969106] -1.0 False False {}\n",
      "65 [-0.32323536  0.03953107] -1.0 False False {}\n",
      "66 [-0.28411815  0.03911722] -1.0 False False {}\n",
      "67 [-0.24564646  0.03847169] -1.0 False False {}\n",
      "68 [-0.2080261   0.03762037] -1.0 False False {}\n",
      "69 [-0.17143448  0.03659161] -1.0 False False {}\n",
      "70 [-0.13601945  0.03541502] -1.0 False False {}\n",
      "71 [-0.10189916  0.03412029] -1.0 False False {}\n",
      "72 [-0.06916296  0.0327362 ] -1.0 False False {}\n",
      "73 [-0.03787315  0.03128982] -1.0 False False {}\n",
      "74 [-0.00806721  0.02980594] -1.0 False False {}\n",
      "75 [0.02023946 0.02830667] -1.0 False False {}\n",
      "76 [0.04705074 0.02681128] -1.0 False False {}\n",
      "77 [0.07238688 0.02533614] -1.0 False False {}\n",
      "78 [0.09628174 0.02389486] -1.0 False False {}\n",
      "79 [0.11878016 0.02249843] -1.0 False False {}\n",
      "80 [0.13993563 0.02115547] -1.0 False False {}\n",
      "81 [0.15980819 0.01987256] -1.0 False False {}\n",
      "82 [0.1784626 0.0186544] -1.0 False False {}\n",
      "83 [0.19596682 0.01750423] -1.0 False False {}\n",
      "84 [0.21239078 0.01642396] -1.0 False False {}\n",
      "85 [0.22780529 0.01541451] -1.0 False False {}\n",
      "86 [0.24228124 0.01447596] -1.0 False False {}\n",
      "87 [0.255889   0.01360777] -1.0 False False {}\n",
      "88 [0.26869795 0.01280894] -1.0 False False {}\n",
      "89 [0.28077608 0.01207813] -1.0 False False {}\n",
      "90 [0.2921899  0.01141381] -1.0 False False {}\n",
      "91 [0.30300424 0.01081433] -1.0 False False {}\n",
      "92 [0.31328225 0.01027802] -1.0 False False {}\n",
      "93 [0.3230855  0.00980324] -1.0 False False {}\n",
      "94 [0.33247393 0.00938846] -1.0 False False {}\n",
      "95 [0.34150624 0.00903228] -1.0 False False {}\n",
      "96 [0.35023972 0.00873351] -1.0 False False {}\n",
      "97 [0.35873088 0.00849114] -1.0 False False {}\n",
      "98 [0.3670353  0.00830443] -1.0 False False {}\n",
      "99 [0.37520823 0.00817291] -1.0 False False {}\n",
      "100 [0.3833046  0.00809638] -1.0 False False {}\n",
      "101 [0.39137957 0.00807496] -1.0 False False {}\n",
      "102 [0.3994887  0.00810912] -1.0 False False {}\n",
      "103 [0.40768832 0.00819965] -1.0 False False {}\n",
      "104 [0.41603607 0.00834773] -1.0 False False {}\n",
      "105 [0.424591   0.00855494] -1.0 False False {}\n",
      "106 [0.43341425 0.00882325] -1.0 False False {}\n",
      "107 [0.44256935 0.00915509] -1.0 False False {}\n",
      "108 [0.4521227  0.00955334] -1.0 False False {}\n",
      "109 [0.46214405 0.01002137] -1.0 False False {}\n",
      "110 [0.47270712 0.01056306] -1.0 False False {}\n",
      "111 [0.48388997 0.01118286] -1.0 False False {}\n",
      "112 [0.49577573 0.01188574] -1.0 False False {}\n",
      "113 [0.508453   0.01267731] -1.0 True False {}\n"
     ]
    }
   ],
   "source": [
    "# Go left first K iterations and then go right N - K iterations\n",
    "env.reset(seed=42)\n",
    "K = 50\n",
    "N = 250\n",
    "\n",
    "for i in range(N):\n",
    "    env.render()\n",
    "    action = 0 if i < K else 2\n",
    "    observation, reward, terminated, truncated, info = env.step(action)\n",
    "    print(i, observation, reward, terminated, truncated, info)\n",
    "    if terminated:\n",
    "        break"
   ]
  },
  {
   "cell_type": "code",
   "execution_count": 23,
   "id": "3bd54112",
   "metadata": {},
   "outputs": [],
   "source": [
    "env.close()"
   ]
  },
  {
   "cell_type": "code",
   "execution_count": 1,
   "id": "42b0874a",
   "metadata": {},
   "outputs": [
    {
     "name": "stdout",
     "output_type": "stream",
     "text": [
      "Note: you may need to restart the kernel to use updated packages.\n"
     ]
    }
   ],
   "source": [
    "%pip install flappy-bird-gymnasium -q"
   ]
  },
  {
   "cell_type": "code",
   "execution_count": 2,
   "id": "4ddda103",
   "metadata": {},
   "outputs": [],
   "source": [
    "import flappy_bird_gymnasium\n",
    "env = gym.make(\"FlappyBird-v0\", render_mode=\"human\", use_lidar=False)"
   ]
  },
  {
   "cell_type": "code",
   "execution_count": 4,
   "id": "39edafff",
   "metadata": {},
   "outputs": [],
   "source": [
    "obs, _ = env.reset()"
   ]
  },
  {
   "cell_type": "code",
   "execution_count": 5,
   "id": "778d06ea",
   "metadata": {},
   "outputs": [
    {
     "data": {
      "text/plain": [
       "array([ 1.        ,  0.29296875,  0.48828125,  1.        ,  0.        ,\n",
       "        1.        ,  1.        ,  0.        ,  1.        ,  0.4765625 ,\n",
       "       -0.9       ,  0.5       ])"
      ]
     },
     "execution_count": 5,
     "metadata": {},
     "output_type": "execute_result"
    }
   ],
   "source": [
    "obs"
   ]
  },
  {
   "cell_type": "code",
   "execution_count": 6,
   "id": "ab246a76",
   "metadata": {},
   "outputs": [
    {
     "data": {
      "text/plain": [
       "Box(-1.0, 1.0, (12,), float64)"
      ]
     },
     "execution_count": 6,
     "metadata": {},
     "output_type": "execute_result"
    }
   ],
   "source": [
    "env.observation_space"
   ]
  },
  {
   "cell_type": "code",
   "execution_count": 9,
   "id": "eeef63d6",
   "metadata": {},
   "outputs": [],
   "source": [
    "n_bins = 6\n",
    "import pandas as pd\n",
    "obs_low = env.observation_space.low\n",
    "obs_high = env.observation_space.high\n",
    "\n",
    "# Discretize the observation space\n",
    "def discretize_observation(observation):\n",
    "    bins = np.linspace(obs_low, obs_high, n_bins)\n",
    "    return tuple(np.digitize(observation, bins))\n",
    "\n",
    "# Define the variables for the MultiIndex\n",
    "variables = [\n",
    "    \"last_pipe_h_pos\",\n",
    "    \"last_top_pipe_v_pos\",\n",
    "    \"last_bottom_pipe_v_pos\",\n",
    "    \"next_pipe_h_pos\",\n",
    "    \"next_top_pipe_v_pos\",\n",
    "    \"next_bottom_pipe_v_pos\",\n",
    "    \"next_next_pipe_h_pos\",\n",
    "    \"next_next_top_pipe_v_pos\",\n",
    "    \"next_next_bottom_pipe_v_pos\",\n",
    "    \"player_v_pos\",\n",
    "    \"player_v_vel\",\n",
    "    \"player_rotation\",\n",
    "]\n",
    "\n",
    "# leave out the first three and last three variables\n",
    "var_consider = variables[3:-3]\n"
   ]
  }
 ],
 "metadata": {
  "kernelspec": {
   "display_name": "Python 3 (ipykernel)",
   "language": "python",
   "name": "python3"
  },
  "language_info": {
   "codemirror_mode": {
    "name": "ipython",
    "version": 3
   },
   "file_extension": ".py",
   "mimetype": "text/x-python",
   "name": "python",
   "nbconvert_exporter": "python",
   "pygments_lexer": "ipython3",
   "version": "3.10.11"
  }
 },
 "nbformat": 4,
 "nbformat_minor": 5
}
