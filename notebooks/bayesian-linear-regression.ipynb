{
 "cells": [
  {
   "cell_type": "code",
   "execution_count": 1,
   "metadata": {},
   "outputs": [],
   "source": [
    "from latexify import *"
   ]
  },
  {
   "cell_type": "code",
   "execution_count": 2,
   "metadata": {},
   "outputs": [],
   "source": [
    "import numpy as np\n",
    "import pandas as pd\n",
    "import matplotlib.pyplot as plt\n",
    "\n",
    "%matplotlib inline"
   ]
  },
  {
   "cell_type": "code",
   "execution_count": 83,
   "metadata": {},
   "outputs": [],
   "source": [
    "np.random.seed(42)"
   ]
  },
  {
   "cell_type": "code",
   "execution_count": 84,
   "metadata": {},
   "outputs": [],
   "source": [
    "x = np.linspace(-1, 1, 50).reshape(-1, 1)"
   ]
  },
  {
   "cell_type": "code",
   "execution_count": 85,
   "metadata": {},
   "outputs": [],
   "source": [
    "y = 5*x + 4 \n",
    "noise = (np.abs(x.flatten())*np.random.randn(len(x))).reshape(-1,1)\n",
    "y = y + noise\n"
   ]
  },
  {
   "cell_type": "code",
   "execution_count": 86,
   "metadata": {},
   "outputs": [
    {
     "data": {
      "image/png": "[encoded data removed]",
      "text/plain": [
       "<Figure size 244.08x150.85 with 1 Axes>"
      ]
     },
     "metadata": {
      "needs_background": "light"
     },
     "output_type": "display_data"
    }
   ],
   "source": [
    "latexify()\n",
    "plt.scatter(x, y,s=2)\n",
    "plt.plot(x, 5*x + 4, 'k', label='True function')\n",
    "format_axes(plt.gca())\n",
    "plt.xlabel(\"x\")\n",
    "plt.ylabel(\"y\")\n",
    "plt.legend()\n",
    "plt.savefig(\"bayesian-linear-dataset.pdf\",bbox_inches=\"tight\", transparent=True)"
   ]
  },
  {
   "cell_type": "code",
   "execution_count": 87,
   "metadata": {},
   "outputs": [
    {
     "data": {
      "image/png": "[encoded data removed]",
      "text/plain": [
       "<Figure size 244.08x150.85 with 2 Axes>"
      ]
     },
     "metadata": {
      "needs_background": "light"
     },
     "output_type": "display_data"
    }
   ],
   "source": [
    "from scipy.stats import multivariate_normal\n",
    "from matplotlib import cm\n",
    "cov = np.array([[ 1 , 0], [0,  1]])\n",
    "var = multivariate_normal(mean=[0,0], cov=cov)\n",
    "x_grid, y_grid = np.mgrid[-1:1:.01, -1:1:.01]\n",
    "pos = np.dstack((x_grid, y_grid))\n",
    "z = var.pdf(pos)\n",
    "plt.contourf(x_grid, y_grid, z)\n",
    "plt.gca().set_aspect('equal')\n",
    "plt.xlabel(r\"$\\theta_0$\")\n",
    "plt.ylabel(r\"$\\theta_1$\")\n",
    "plt.title(r\"Prior distribution of $\\theta = f(\\mu, \\Sigma)$\")\n",
    "plt.colorbar()\n",
    "plt.savefig(\"bayesian-linear-prior.pdf\",bbox_inches=\"tight\", transparent=True)"
   ]
  },
  {
   "cell_type": "markdown",
   "metadata": {},
   "source": [
    "$$\n",
    "\\prod_{i=1}^{n} \\frac{1}{\\sqrt{2 \\pi \\sigma^{2}}} e^{-\\frac{(y_{i}-\\hat{y}_{i})^{2}}{2 \\sigma^{2}}}\n",
    "$$"
   ]
  },
  {
   "cell_type": "markdown",
   "metadata": {},
   "source": [
    "### Sample from prior"
   ]
  },
  {
   "cell_type": "code",
   "execution_count": 88,
   "metadata": {},
   "outputs": [
    {
     "data": {
      "image/png": "[encoded data removed]",
      "text/plain": [
       "<Figure size 244.08x150.85 with 1 Axes>"
      ]
     },
     "metadata": {
      "needs_background": "light"
     },
     "output_type": "display_data"
    }
   ],
   "source": [
    "n_samples = 20\n",
    "for n in range(n_samples):\n",
    "    theta_0_s, theta_1_s = var.rvs()\n",
    "    plt.plot(x, theta_1_s*x + theta_0_s, color='k',alpha=0.2)\n",
    "plt.scatter(x, y,s=5)\n",
    "format_axes(plt.gca())\n",
    "plt.savefig(\"bayesian-linear-prior-samples.pdf\",bbox_inches=\"tight\", transparent=True)"
   ]
  },
  {
   "cell_type": "markdown",
   "metadata": {},
   "source": [
    "### Likelihood of theta"
   ]
  },
  {
   "cell_type": "code",
   "execution_count": 89,
   "metadata": {},
   "outputs": [],
   "source": [
    "def likelihood(theta_0, theta_1, x, y, sigma):\n",
    "    s = 0\n",
    "    x_plus_1 = np.hstack((np.ones_like(x), x))\n",
    "\n",
    "    for i in range(len(x)):\n",
    "        y_i_hat = x_plus_1[i, :]@np.array([theta_0, theta_1])\n",
    "        s += (y[i,:]-y_i_hat)**2\n",
    "    \n",
    "    \n",
    "    return np.exp(-s/(2*sigma*sigma))/np.sqrt(2*np.pi*sigma*sigma)"
   ]
  },
  {
   "cell_type": "code",
   "execution_count": 90,
   "metadata": {},
   "outputs": [
    {
     "data": {
      "text/plain": [
       "array([1.20939456e-21])"
      ]
     },
     "execution_count": 90,
     "metadata": {},
     "output_type": "execute_result"
    }
   ],
   "source": [
    "likelihood(-1, 1, x, y, 4)"
   ]
  },
  {
   "cell_type": "code",
   "execution_count": 91,
   "metadata": {},
   "outputs": [],
   "source": [
    "x_grid_2, y_grid_2 = np.mgrid[0:8:.1, 0:8:.1]\n",
    "\n",
    "li = np.zeros_like(x_grid_2)\n",
    "for i in range(x_grid_2.shape[0]):\n",
    "    for j in range(x_grid_2.shape[1]):\n",
    "        li[i, j] = likelihood(x_grid_2[i, j], y_grid_2[i, j], x, y, 4)\n",
    "        "
   ]
  },
  {
   "cell_type": "code",
   "execution_count": 92,
   "metadata": {},
   "outputs": [
    {
     "data": {
      "text/plain": [
       "<matplotlib.legend.Legend at 0x7f78ae5d0050>"
      ]
     },
     "execution_count": 92,
     "metadata": {},
     "output_type": "execute_result"
    },
    {
     "data": {
      "image/png": "[encoded data removed]",
      "text/plain": [
       "<Figure size 244.08x150.85 with 2 Axes>"
      ]
     },
     "metadata": {
      "needs_background": "light"
     },
     "output_type": "display_data"
    }
   ],
   "source": [
    "plt.contourf(x_grid_2, y_grid_2, li)\n",
    "plt.gca().set_aspect('equal')\n",
    "plt.xlabel(r\"$\\theta_0$\")\n",
    "plt.ylabel(r\"$\\theta_1$\")\n",
    "plt.colorbar()\n",
    "plt.scatter(4, 5, s=200, marker='*', color='r', label='MLE')\n",
    "plt.title(r\"Likelihood as a function of ($\\theta_0, \\theta_1$)\")\n",
    "plt.legend()"
   ]
  },
  {
   "cell_type": "code",
   "execution_count": null,
   "metadata": {},
   "outputs": [],
   "source": []
  },
  {
   "cell_type": "markdown",
   "metadata": {},
   "source": [
    "### Likelihood of $\\sigma^2$"
   ]
  },
  {
   "cell_type": "code",
   "execution_count": 93,
   "metadata": {},
   "outputs": [
    {
     "data": {
      "text/plain": [
       "3.657127785305386"
      ]
     },
     "execution_count": 93,
     "metadata": {},
     "output_type": "execute_result"
    }
   ],
   "source": [
    "x_plus_1 = np.hstack((np.ones_like(x), x))\n",
    "\n",
    "theta_mle = np.linalg.inv(x_plus_1.T@x_plus_1)@(x_plus_1.T@y)\n",
    "sigma_2_mle = np.linalg.norm(y - x_plus_1@theta_mle)**2\n",
    "sigma_mle = np.sqrt(sigma_2_mle)\n",
    "sigma_mle"
   ]
  },
  {
   "cell_type": "code",
   "execution_count": 94,
   "metadata": {},
   "outputs": [
    {
     "data": {
      "image/png": "[encoded data removed]",
      "text/plain": [
       "<Figure size 244.08x150.85 with 1 Axes>"
      ]
     },
     "metadata": {
      "needs_background": "light"
     },
     "output_type": "display_data"
    }
   ],
   "source": [
    "y_hat_mle = x_plus_1@theta_mle\n",
    "\n",
    "plt.plot(x, y_hat_mle, color='green',label='MLE prediction')\n",
    "plt.scatter(x, y,s=3)\n",
    "plt.legend()\n",
    "format_axes(plt.gca())\n",
    "plt.savefig(\"mle-prediction.pdf\", bbox_inches=\"tight\", transparent=True)"
   ]
  },
  {
   "cell_type": "markdown",
   "metadata": {},
   "source": [
    "### Posterior"
   ]
  },
  {
   "cell_type": "markdown",
   "metadata": {},
   "source": [
    "$$\n",
    "\\begin{aligned}\n",
    "p(\\boldsymbol{\\theta} | \\mathcal{X}, \\mathcal{Y}) &=\\mathcal{N}\\left(\\boldsymbol{\\theta} | \\boldsymbol{m}_{N}, \\boldsymbol{S}_{N}\\right) \\\\\n",
    "\\boldsymbol{S}_{N} &=\\left(\\boldsymbol{S}_{0}^{-1}+\\sigma^{-2} \\boldsymbol{\\Phi}^{\\top} \\boldsymbol{\\Phi}\\right)^{-1} \\\\\n",
    "\\boldsymbol{m}_{N} &=\\boldsymbol{S}_{N}\\left(\\boldsymbol{S}_{0}^{-1} \\boldsymbol{m}_{0}+\\sigma^{-2} \\boldsymbol{\\Phi}^{\\top} \\boldsymbol{y}\\right)\n",
    "\\end{aligned}\n",
    "$$"
   ]
  },
  {
   "cell_type": "code",
   "execution_count": 95,
   "metadata": {},
   "outputs": [],
   "source": [
    "S0 = np.array([[ 1 , 0], [0,  1]])\n",
    "M0 = np.array([0, 0])\n",
    "\n",
    "SN = np.linalg.inv(np.linalg.inv(S0) + (sigma_mle**-2)*x_plus_1.T@x_plus_1)\n",
    "MN = SN@(np.linalg.inv(S0)@M0 + (sigma_mle**-2)*(x_plus_1.T@y).squeeze())"
   ]
  },
  {
   "cell_type": "code",
   "execution_count": 96,
   "metadata": {},
   "outputs": [
    {
     "data": {
      "text/plain": [
       "(array([3.10016556, 2.66117401]), array([[2.11040182e-01, 2.55007485e-17],\n",
       "        [2.55007485e-17, 4.35348986e-01]]))"
      ]
     },
     "execution_count": 96,
     "metadata": {},
     "output_type": "execute_result"
    }
   ],
   "source": [
    "MN, SN"
   ]
  },
  {
   "cell_type": "code",
   "execution_count": 97,
   "metadata": {},
   "outputs": [
    {
     "data": {
      "image/png": "[encoded data removed]",
      "text/plain": [
       "<Figure size 244.08x150.85 with 2 Axes>"
      ]
     },
     "metadata": {
      "needs_background": "light"
     },
     "output_type": "display_data"
    }
   ],
   "source": [
    "from scipy.stats import multivariate_normal\n",
    "from matplotlib import cm\n",
    "cov = np.array([[ 1 , 0], [0,  1]])\n",
    "var_pos = multivariate_normal(mean=MN, cov=SN)\n",
    "x_grid, y_grid = np.mgrid[0:8:.1, 0:8:.1]\n",
    "pos = np.dstack((x_grid, y_grid))\n",
    "z = var_pos.pdf(pos)\n",
    "plt.contourf(x_grid, y_grid, z)\n",
    "plt.gca().set_aspect('equal')\n",
    "plt.xlabel(r\"$\\theta_0$\")\n",
    "plt.ylabel(r\"$\\theta_1$\")\n",
    "plt.title(r\"Posterior distribution of $\\theta = f(\\mu, \\Sigma)$\")\n",
    "plt.scatter(4, 5, s=200, marker='*', color='r', label='MLE')\n",
    "plt.scatter(MN[0], MN[1], s=100, marker='^', color='black', label='MAP')\n",
    "\n",
    "plt.colorbar()\n",
    "plt.legend()\n",
    "plt.savefig(\"bayesian-linear-map-mle.pdf\", bbox_inches=\"tight\", transparent=True)"
   ]
  },
  {
   "cell_type": "markdown",
   "metadata": {},
   "source": [
    "Sample from posterior"
   ]
  },
  {
   "cell_type": "code",
   "execution_count": 98,
   "metadata": {},
   "outputs": [
    {
     "data": {
      "image/png": "[encoded data removed]",
      "text/plain": [
       "<Figure size 244.08x150.85 with 1 Axes>"
      ]
     },
     "metadata": {
      "needs_background": "light"
     },
     "output_type": "display_data"
    }
   ],
   "source": [
    "n_samples = 20\n",
    "for n in range(n_samples):\n",
    "    theta_0_s, theta_1_s = var_pos.rvs()\n",
    "    plt.plot(x, theta_1_s*x + theta_0_s, color='k',alpha=0.2)\n",
    "plt.scatter(x, y, s=5)\n",
    "format_axes(plt.gca())\n",
    "plt.savefig(\"bayesian-linear-samples-posterior.pdf\", bbox_inches=\"tight\", transparent=True)"
   ]
  },
  {
   "cell_type": "markdown",
   "metadata": {},
   "source": [
    "### Posterior predictions"
   ]
  },
  {
   "cell_type": "markdown",
   "metadata": {},
   "source": [
    "$$\n",
    "\\begin{aligned}\n",
    "p\\left(y_{*} | \\mathcal{X}, \\mathcal{Y}, \\boldsymbol{x}_{*}\\right) &=\\int p\\left(y_{*} | \\boldsymbol{x}_{*}, \\boldsymbol{\\theta}\\right) p(\\boldsymbol{\\theta} | \\mathcal{X}, \\mathcal{Y}) \\mathrm{d} \\boldsymbol{\\theta} \\\\\n",
    "&=\\int \\mathcal{N}\\left(y_{*} | \\boldsymbol{\\phi}^{\\top}\\left(\\boldsymbol{x}_{*}\\right) \\boldsymbol{\\theta}, \\sigma^{2}\\right) \\mathcal{N}\\left(\\boldsymbol{\\theta} | \\boldsymbol{m}_{N}, \\boldsymbol{S}_{N}\\right) \\mathrm{d} \\boldsymbol{\\theta} \\\\\n",
    "&=\\mathcal{N}\\left(y_{*} | \\boldsymbol{\\phi}^{\\top}\\left(\\boldsymbol{x}_{*}\\right) \\boldsymbol{m}_{N}, \\boldsymbol{\\phi}^{\\top}\\left(\\boldsymbol{x}_{*}\\right) \\boldsymbol{S}_{N} \\boldsymbol{\\phi}\\left(\\boldsymbol{x}_{*}\\right)+\\sigma^{2}\\right)\n",
    "\\end{aligned}\n",
    "$$"
   ]
  },
  {
   "cell_type": "markdown",
   "metadata": {},
   "source": [
    "For a point $x*$"
   ]
  },
  {
   "cell_type": "markdown",
   "metadata": {},
   "source": [
    "Predictive mean = $X^Tm_N$\n",
    "\n",
    "Predictive variance = $X^TS_NX + \\sigma^2$"
   ]
  },
  {
   "cell_type": "code",
   "execution_count": 99,
   "metadata": {},
   "outputs": [
    {
     "data": {
      "text/plain": [
       "((2, 50), (2, 2), (50, 2))"
      ]
     },
     "execution_count": 99,
     "metadata": {},
     "output_type": "execute_result"
    }
   ],
   "source": [
    "x_plus_1.T.shape, SN.shape, x_plus_1.shape"
   ]
  },
  {
   "cell_type": "code",
   "execution_count": 100,
   "metadata": {},
   "outputs": [
    {
     "data": {
      "text/plain": [
       "(50, 50)"
      ]
     },
     "execution_count": 100,
     "metadata": {},
     "output_type": "execute_result"
    }
   ],
   "source": [
    "pred_var = x_plus_1@SN@x_plus_1.T\n",
    "pred_var.shape"
   ]
  },
  {
   "cell_type": "code",
   "execution_count": null,
   "metadata": {},
   "outputs": [],
   "source": []
  },
  {
   "cell_type": "code",
   "execution_count": 101,
   "metadata": {},
   "outputs": [],
   "source": [
    "## Marginal\n",
    "individual_var = pred_var.diagonal()"
   ]
  },
  {
   "cell_type": "code",
   "execution_count": 102,
   "metadata": {},
   "outputs": [
    {
     "data": {
      "image/png": "[encoded data removed]",
      "text/plain": [
       "<Figure size 244.08x150.85 with 1 Axes>"
      ]
     },
     "metadata": {
      "needs_background": "light"
     },
     "output_type": "display_data"
    }
   ],
   "source": [
    "y_hat_map = x_plus_1@MN\n",
    "\n",
    "plt.plot(x, y_hat_mle, color='green',label='MLE prediction')\n",
    "plt.plot(x, y_hat_map, color='black', label='MAP prediction')\n",
    "plt.fill_between(x.flatten(), y_hat_map-individual_var, y_hat_map+individual_var, alpha=0.2, color='black', label='Variance')\n",
    "plt.scatter(x, y,s=3)\n",
    "plt.legend()\n",
    "format_axes(plt.gca())\n",
    "plt.savefig(\"bayesian-linear-full.pdf\", bbox_inches=\"tight\", transparent=True)"
   ]
  },
  {
   "cell_type": "code",
   "execution_count": 103,
   "metadata": {},
   "outputs": [
    {
     "data": {
      "text/plain": [
       "array([[2.11040182e-01, 2.55007485e-17],\n",
       "       [2.55007485e-17, 4.35348986e-01]])"
      ]
     },
     "execution_count": 103,
     "metadata": {},
     "output_type": "execute_result"
    }
   ],
   "source": [
    "SN"
   ]
  },
  {
   "cell_type": "code",
   "execution_count": 104,
   "metadata": {},
   "outputs": [
    {
     "data": {
      "text/plain": [
       "array([3.10016556, 2.66117401])"
      ]
     },
     "execution_count": 104,
     "metadata": {},
     "output_type": "execute_result"
    }
   ],
   "source": [
    "MN"
   ]
  },
  {
   "cell_type": "markdown",
   "metadata": {},
   "source": [
    "Animation"
   ]
  },
  {
   "cell_type": "code",
   "execution_count": 105,
   "metadata": {},
   "outputs": [],
   "source": [
    "S0 = np.array([[ 1 , 0], [0,  1]])\n",
    "M0 = np.array([0, 0])"
   ]
  },
  {
   "cell_type": "code",
   "execution_count": 106,
   "metadata": {},
   "outputs": [
    {
     "data": {
      "text/plain": [
       "array([41, 21, 13, 45,  7, 20,  5,  3, 43, 14, 28, 12,  8, 34, 49, 23, 37,\n",
       "        4, 11, 33, 36,  1, 16, 44, 26, 47, 15, 42, 46,  9, 29, 30, 22, 24,\n",
       "       27, 10,  0, 17, 38, 39, 32, 40,  6, 31, 19, 48,  2, 25, 18, 35])"
      ]
     },
     "execution_count": 106,
     "metadata": {},
     "output_type": "execute_result"
    }
   ],
   "source": [
    "samples = np.random.choice(50, size=50, replace=False)\n",
    "samples"
   ]
  },
  {
   "cell_type": "code",
   "execution_count": null,
   "metadata": {},
   "outputs": [
    {
     "name": "stderr",
     "output_type": "stream",
     "text": [
      "Exception ignored in: <function TransformNode.set_children.<locals>.<lambda> at 0x7f78ae2004d0>\n",
      "Traceback (most recent call last):\n",
      "  File \"/home/nipunbatra-pc/anaconda3/lib/python3.7/site-packages/matplotlib/transforms.py\", line 178, in <lambda>\n",
      "    ref = weakref.ref(self, lambda ref, sid=id(self),\n",
      "KeyboardInterrupt\n"
     ]
    }
   ],
   "source": [
    "for i in range(10, 180):\n",
    "    SN = np.linalg.inv(np.linalg.inv(S0) + (sigma_mle**-2)*((x_plus_1[samples[:i+1]].T)@(x_plus_1[samples[:i+1]])))\n",
    "    MN = SN@(np.linalg.inv(S0)@M0 + (sigma_mle**-2)*(x_plus_1.T@y).squeeze())\n",
    "    var_pos = multivariate_normal(mean=MN, cov=SN)\n",
    "    x_grid, y_grid = np.mgrid[0:8:.1, 0:8:.1]\n",
    "    pos = np.dstack((x_grid, y_grid))\n",
    "    z = var_pos.pdf(pos)\n",
    "    plt.contourf(x_grid, y_grid, z)\n",
    "    plt.gca().set_aspect('equal')\n",
    "    plt.xlabel(r\"$\\theta_0$\")\n",
    "    plt.ylabel(r\"$\\theta_1$\")\n",
    "    plt.title(r\"Posterior distribution of $\\theta = f(\\mu, \\Sigma)$\")\n",
    "    plt.scatter(4, 5, s=200, marker='*', color='r', label='MLE')\n",
    "    plt.scatter(MN[0], MN[1], s=100, marker='^', color='black', label='MAP')\n",
    "\n",
    "    plt.colorbar()\n",
    "    plt.savefig(\"%d.png\" %i, bbox_inches=\"tight\", transparent=True)\n",
    "    plt.clf()"
   ]
  },
  {
   "cell_type": "code",
   "execution_count": null,
   "metadata": {},
   "outputs": [],
   "source": [
    "(x_plus_1[samples:i+1])"
   ]
  },
  {
   "cell_type": "code",
   "execution_count": null,
   "metadata": {},
   "outputs": [],
   "source": []
  },
  {
   "cell_type": "code",
   "execution_count": null,
   "metadata": {},
   "outputs": [],
   "source": []
  },
  {
   "cell_type": "code",
   "execution_count": null,
   "metadata": {},
   "outputs": [],
   "source": []
  },
  {
   "cell_type": "code",
   "execution_count": null,
   "metadata": {},
   "outputs": [],
   "source": []
  },
  {
   "cell_type": "code",
   "execution_count": null,
   "metadata": {},
   "outputs": [],
   "source": []
  },
  {
   "cell_type": "code",
   "execution_count": null,
   "metadata": {},
   "outputs": [],
   "source": []
  },
  {
   "cell_type": "code",
   "execution_count": null,
   "metadata": {},
   "outputs": [],
   "source": []
  }
 ],
 "metadata": {
  "kernelspec": {
   "display_name": "Python 3",
   "language": "python",
   "name": "python3"
  },
  "language_info": {
   "codemirror_mode": {
    "name": "ipython",
    "version": 3
   },
   "file_extension": ".py",
   "mimetype": "text/x-python",
   "name": "python",
   "nbconvert_exporter": "python",
   "pygments_lexer": "ipython3",
   "version": "3.7.4"
  }
 },
 "nbformat": 4,
 "nbformat_minor": 2
}
