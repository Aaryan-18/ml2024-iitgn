{
 "cells": [
  {
   "cell_type": "code",
   "execution_count": 1,
   "metadata": {},
   "outputs": [],
   "source": [
    "import numpy as np\n",
    "import sklearn \n",
    "import matplotlib.pyplot as plt\n",
    "from latexify import *\n",
    "%matplotlib inline\n",
    "import matplotlib.patches as mpatches"
   ]
  },
  {
   "cell_type": "code",
   "execution_count": 2,
   "metadata": {},
   "outputs": [],
   "source": [
    "x = np.array([0, 0.1, 0.2, 0.3, 0.6, 0.7, 0.9])"
   ]
  },
  {
   "cell_type": "code",
   "execution_count": 3,
   "metadata": {},
   "outputs": [],
   "source": [
    "y = (x>0.4).astype('int')"
   ]
  },
  {
   "cell_type": "code",
   "execution_count": 4,
   "metadata": {},
   "outputs": [
    {
     "data": {
      "text/plain": [
       "array([0, 0, 0, 0, 1, 1, 1])"
      ]
     },
     "execution_count": 4,
     "metadata": {},
     "output_type": "execute_result"
    }
   ],
   "source": [
    "y"
   ]
  },
  {
   "cell_type": "code",
   "execution_count": null,
   "metadata": {},
   "outputs": [],
   "source": []
  },
  {
   "cell_type": "code",
   "execution_count": 5,
   "metadata": {},
   "outputs": [
    {
     "data": {
      "image/png": "[encoded data removed]",
      "text/plain": [
       "<Figure size 244.08x150.85 with 1 Axes>"
      ]
     },
     "metadata": {
      "needs_background": "light"
     },
     "output_type": "display_data"
    }
   ],
   "source": [
    "\n",
    "latexify()\n",
    "plt.scatter(x, np.zeros_like(x), c=y)\n",
    "yellow_patch = mpatches.Patch(color='yellow', label='Oranges')\n",
    "blue_patch = mpatches.Patch(color='darkblue', label='Tomatoes')\n",
    "plt.legend(handles=[yellow_patch, blue_patch])\n",
    "\n",
    "plt.xlabel('Radius')\n",
    "plt.gca().yaxis.set_visible(False) \n",
    "format_axes(plt.gca())\n",
    "plt.savefig(\"logistic-orange-tomatoes-original.pdf\", bbox_inches=\"tight\", transparent=True)"
   ]
  },
  {
   "cell_type": "code",
   "execution_count": 6,
   "metadata": {},
   "outputs": [
    {
     "data": {
      "image/png": "[encoded data removed]",
      "text/plain": [
       "<Figure size 244.08x150.85 with 1 Axes>"
      ]
     },
     "metadata": {
      "needs_background": "light"
     },
     "output_type": "display_data"
    }
   ],
   "source": [
    "plt.scatter(x, y, c=y)\n",
    "yellow_patch = mpatches.Patch(color='yellow', label='Oranges')\n",
    "blue_patch = mpatches.Patch(color='darkblue', label='Tomatoes')\n",
    "plt.legend(handles=[yellow_patch, blue_patch])\n",
    "\n",
    "plt.xlabel('Radius')\n",
    "format_axes(plt.gca())\n",
    "plt.savefig(\"logistic-orange-tomatoes.pdf\", bbox_inches=\"tight\", transparent=True)"
   ]
  },
  {
   "cell_type": "markdown",
   "metadata": {},
   "source": [
    "### Fitting linear model"
   ]
  },
  {
   "cell_type": "code",
   "execution_count": 7,
   "metadata": {},
   "outputs": [],
   "source": [
    "from sklearn.linear_model import LinearRegression"
   ]
  },
  {
   "cell_type": "code",
   "execution_count": 8,
   "metadata": {},
   "outputs": [],
   "source": [
    "linr_reg = LinearRegression()"
   ]
  },
  {
   "cell_type": "code",
   "execution_count": 9,
   "metadata": {},
   "outputs": [
    {
     "data": {
      "text/plain": [
       "LinearRegression(copy_X=True, fit_intercept=True, n_jobs=None, normalize=False)"
      ]
     },
     "execution_count": 9,
     "metadata": {},
     "output_type": "execute_result"
    }
   ],
   "source": [
    "linr_reg.fit(x.reshape(-1, 1), y)"
   ]
  },
  {
   "cell_type": "code",
   "execution_count": 10,
   "metadata": {},
   "outputs": [
    {
     "data": {
      "image/png": "[encoded data removed]",
      "text/plain": [
       "<Figure size 244.08x150.85 with 1 Axes>"
      ]
     },
     "metadata": {
      "needs_background": "light"
     },
     "output_type": "display_data"
    }
   ],
   "source": [
    "plt.plot(np.linspace(0, 1, 50), linr_reg.predict(np.linspace(0, 1, 50).reshape(-1, 1)))\n",
    "plt.scatter(x, y, c=y)\n",
    "yellow_patch = mpatches.Patch(color='yellow', label='Oranges')\n",
    "blue_patch = mpatches.Patch(color='darkblue', label='Tomatoes')\n",
    "\n",
    "plt.xlabel('Radius')\n",
    "format_axes(plt.gca())\n",
    "plt.axhline(y=1, color='grey', label='P(y=1)')\n",
    "plt.axhline(y=0, color='grey')\n",
    "plt.legend(handles=[yellow_patch, blue_patch])\n",
    "\n",
    "plt.savefig(\"linear-orange-tomatoes.pdf\", bbox_inches=\"tight\", transparent=True)"
   ]
  },
  {
   "cell_type": "code",
   "execution_count": 11,
   "metadata": {},
   "outputs": [
    {
     "data": {
      "text/plain": [
       "array([0.44857143])"
      ]
     },
     "execution_count": 11,
     "metadata": {},
     "output_type": "execute_result"
    }
   ],
   "source": [
    " (0.5-linr_reg.intercept_)/linr_reg.coef_"
   ]
  },
  {
   "cell_type": "code",
   "execution_count": 12,
   "metadata": {},
   "outputs": [
    {
     "data": {
      "image/png": "[encoded data removed]",
      "text/plain": [
       "<Figure size 244.08x150.85 with 1 Axes>"
      ]
     },
     "metadata": {
      "needs_background": "light"
     },
     "output_type": "display_data"
    }
   ],
   "source": [
    "plt.plot(np.linspace(0, 1, 50), linr_reg.predict(np.linspace(0, 1, 50).reshape(-1, 1)))\n",
    "plt.scatter(x, y, c=y)\n",
    "yellow_patch = mpatches.Patch(color='yellow', label='Oranges')\n",
    "blue_patch = mpatches.Patch(color='darkblue', label='Tomatoes')\n",
    "\n",
    "plt.xlabel('Radius')\n",
    "format_axes(plt.gca())\n",
    "#plt.axhline(y=1, color='grey', label='P(y=1)')\n",
    "#plt.axhline(y=0, color='grey')\n",
    "plt.axhline(y=0.5, color='grey')\n",
    "plt.axvline(x=((0.5-linr_reg.intercept_)/linr_reg.coef_)[0], color='grey')\n",
    "\n",
    "plt.legend(handles=[yellow_patch, blue_patch])\n",
    "\n",
    "plt.savefig(\"linear-orange-tomatoes-decision.pdf\", bbox_inches=\"tight\", transparent=True)"
   ]
  },
  {
   "cell_type": "code",
   "execution_count": 13,
   "metadata": {},
   "outputs": [
    {
     "data": {
      "text/plain": [
       "LinearRegression(copy_X=True, fit_intercept=True, n_jobs=None, normalize=False)"
      ]
     },
     "execution_count": 13,
     "metadata": {},
     "output_type": "execute_result"
    }
   ],
   "source": [
    "x_dash = np.append(x, 2.5)\n",
    "y_dash = np.append(y, 1)\n",
    "linr_reg.fit(x_dash.reshape(-1, 1), y_dash)"
   ]
  },
  {
   "cell_type": "code",
   "execution_count": 14,
   "metadata": {},
   "outputs": [
    {
     "data": {
      "image/png": "[encoded data removed]",
      "text/plain": [
       "<Figure size 244.08x150.85 with 1 Axes>"
      ]
     },
     "metadata": {
      "needs_background": "light"
     },
     "output_type": "display_data"
    }
   ],
   "source": [
    "plt.plot(np.linspace(0, 2.5, 50), linr_reg.predict(np.linspace(0, 2.5, 50).reshape(-1, 1)))\n",
    "plt.scatter(x_dash, y_dash, c=y_dash)\n",
    "yellow_patch = mpatches.Patch(color='yellow', label='Oranges')\n",
    "blue_patch = mpatches.Patch(color='darkblue', label='Tomatoes')\n",
    "\n",
    "plt.xlabel('Radius')\n",
    "format_axes(plt.gca())\n",
    "#plt.axhline(y=1, color='grey', label='P(y=1)')\n",
    "#plt.axhline(y=0, color='grey')\n",
    "plt.axhline(y=0.5, color='grey')\n",
    "plt.axvline(x=((0.5-linr_reg.intercept_)/linr_reg.coef_)[0], color='grey')\n",
    "\n",
    "plt.legend(handles=[yellow_patch, blue_patch])\n",
    "\n",
    "plt.savefig(\"linear-orange-tomatoes-decision-modified.pdf\", bbox_inches=\"tight\", transparent=True)"
   ]
  },
  {
   "cell_type": "code",
   "execution_count": 15,
   "metadata": {},
   "outputs": [],
   "source": [
    "from sklearn.linear_model import LogisticRegression"
   ]
  },
  {
   "cell_type": "code",
   "execution_count": 16,
   "metadata": {},
   "outputs": [],
   "source": [
    "clf = LogisticRegression(penalty='none', solver='lbfgs')"
   ]
  },
  {
   "cell_type": "code",
   "execution_count": 17,
   "metadata": {
    "scrolled": true
   },
   "outputs": [
    {
     "data": {
      "text/plain": [
       "LogisticRegression(C=1.0, class_weight=None, dual=False, fit_intercept=True,\n",
       "                   intercept_scaling=1, l1_ratio=None, max_iter=100,\n",
       "                   multi_class='warn', n_jobs=None, penalty='none',\n",
       "                   random_state=None, solver='lbfgs', tol=0.0001, verbose=0,\n",
       "                   warm_start=False)"
      ]
     },
     "execution_count": 17,
     "metadata": {},
     "output_type": "execute_result"
    }
   ],
   "source": [
    "clf.fit(x.reshape(-1,1), y)"
   ]
  },
  {
   "cell_type": "code",
   "execution_count": 18,
   "metadata": {},
   "outputs": [
    {
     "data": {
      "text/plain": [
       "array([[55.99493009]])"
      ]
     },
     "execution_count": 18,
     "metadata": {},
     "output_type": "execute_result"
    }
   ],
   "source": [
    "clf.coef_"
   ]
  },
  {
   "cell_type": "code",
   "execution_count": 19,
   "metadata": {},
   "outputs": [
    {
     "data": {
      "text/plain": [
       "array([0.4484548])"
      ]
     },
     "execution_count": 19,
     "metadata": {},
     "output_type": "execute_result"
    }
   ],
   "source": [
    "-clf.intercept_[0]/clf.coef_[0]"
   ]
  },
  {
   "cell_type": "code",
   "execution_count": 20,
   "metadata": {},
   "outputs": [
    {
     "data": {
      "text/plain": [
       "array([-25.11119514])"
      ]
     },
     "execution_count": 20,
     "metadata": {},
     "output_type": "execute_result"
    }
   ],
   "source": [
    "clf.intercept_"
   ]
  },
  {
   "cell_type": "code",
   "execution_count": 21,
   "metadata": {},
   "outputs": [],
   "source": [
    "def sigmoid(z):\n",
    "    return 1/(1+np.exp(-z))"
   ]
  },
  {
   "cell_type": "code",
   "execution_count": 22,
   "metadata": {},
   "outputs": [
    {
     "data": {
      "image/png": "[encoded data removed]",
      "text/plain": [
       "<Figure size 244.08x150.85 with 1 Axes>"
      ]
     },
     "metadata": {
      "needs_background": "light"
     },
     "output_type": "display_data"
    }
   ],
   "source": [
    "latexify()\n",
    "plt.scatter(x, y, c=y)\n",
    "yellow_patch = mpatches.Patch(color='yellow', label='Oranges')\n",
    "blue_patch = mpatches.Patch(color='darkblue', label='Tomatoes')\n",
    "black_patch = mpatches.Patch(color='black', label='Decision Boundary')\n",
    "plt.axvline(x = -clf.intercept_[0]/clf.coef_[0],label='Decision Boundary',linestyle='--',color='k',lw=1)\n",
    "plt.xlabel('Radius')\n",
    "format_axes(plt.gca())\n",
    "plt.legend(handles=[black_patch, yellow_patch, blue_patch])\n",
    "plt.axhspan(0,1, xmin=0, xmax=0.49, linestyle='--',color='darkblue',lw=1, alpha=0.2)\n",
    "plt.axhspan(0,0.001, xmin=0, xmax=0.49, linestyle='--',color='k',lw=1, )\n",
    "\n",
    "plt.axhspan(0,1, xmax=1, xmin=0.49, linestyle='--',color='yellow',lw=1, alpha=0.2)\n",
    "plt.axhspan(1,1.001,  xmax=1, xmin=0.49, linestyle='--',color='k',lw=1, )\n",
    "plt.savefig(\"linear-orange-tomatoes-decision-ideal.pdf\", bbox_inches=\"tight\", transparent=True)"
   ]
  },
  {
   "cell_type": "code",
   "execution_count": 23,
   "metadata": {},
   "outputs": [
    {
     "data": {
      "image/png": "[encoded data removed]",
      "text/plain": [
       "<Figure size 244.08x150.85 with 1 Axes>"
      ]
     },
     "metadata": {
      "needs_background": "light"
     },
     "output_type": "display_data"
    }
   ],
   "source": [
    "x_dum = np.linspace(-0.1, 1, 100)\n",
    "plt.plot(x_dum, sigmoid(x_dum*clf.coef_[0] + clf.intercept_[0]))\n",
    "plt.scatter(x, y, c=y)\n",
    "latexify()\n",
    "plt.axvline(-clf.intercept_[0]/clf.coef_[0], lw=2, color='black')\n",
    "plt.axhline(0.5, linestyle='--',color='k',lw=3, label='P(y=1) = P(y=0)')\n",
    "plt.ylabel(\"P(y=1)\")\n",
    "plt.xlabel('Radius')\n",
    "yellow_patch = mpatches.Patch(color='yellow', label='Oranges')\n",
    "blue_patch = mpatches.Patch(color='darkblue', label='Tomatoes')\n",
    "black_patch = mpatches.Patch(color='black', label='Decision Boundary')\n",
    "sigmoid_patch = mpatches.Patch(color='steelblue', label='Sigmoid')\n",
    "plt.legend(handles=[black_patch, yellow_patch, blue_patch, sigmoid_patch])\n",
    "format_axes(plt.gca())\n",
    "plt.title(\"Logistic Regression\")\n",
    "plt.savefig(\"logistic.pdf\", bbox_inches=\"tight\", transparent=True)"
   ]
  },
  {
   "cell_type": "code",
   "execution_count": 24,
   "metadata": {},
   "outputs": [
    {
     "data": {
      "image/png": "[encoded data removed]",
      "text/plain": [
       "<Figure size 244.08x150.85 with 1 Axes>"
      ]
     },
     "metadata": {
      "needs_background": "light"
     },
     "output_type": "display_data"
    }
   ],
   "source": [
    "x_dum = np.linspace(-0.1, 1, 100)\n",
    "plt.plot(x_dum, sigmoid(x_dum*clf.coef_[0] + clf.intercept_[0]))\n",
    "\n",
    "\n",
    "format_axes(plt.gca())\n",
    "plt.xlabel(\"z\")\n",
    "plt.ylabel(r\"$\\sigma(z)$\")\n",
    "plt.savefig(\"logistic-function.pdf\", bbox_inches=\"tight\", transparent=True)"
   ]
  },
  {
   "cell_type": "code",
   "execution_count": null,
   "metadata": {},
   "outputs": [],
   "source": []
  },
  {
   "cell_type": "code",
   "execution_count": null,
   "metadata": {},
   "outputs": [],
   "source": []
  }
 ],
 "metadata": {
  "kernelspec": {
   "display_name": "Python 3",
   "language": "python",
   "name": "python3"
  },
  "language_info": {
   "codemirror_mode": {
    "name": "ipython",
    "version": 3
   },
   "file_extension": ".py",
   "mimetype": "text/x-python",
   "name": "python",
   "nbconvert_exporter": "python",
   "pygments_lexer": "ipython3",
   "version": "3.7.4"
  }
 },
 "nbformat": 4,
 "nbformat_minor": 2
}
